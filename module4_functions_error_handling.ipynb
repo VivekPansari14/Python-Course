{
 "cells": [
  {
   "cell_type": "markdown",
   "id": "4f58d484",
   "metadata": {},
   "source": [
    "# 📈 Module 4: Functions & Error Handling"
   ]
  },
  {
   "cell_type": "markdown",
   "id": "261f637e",
   "metadata": {},
   "source": [
    "## 🎯 Learning Goals:\n",
    "- ✅ Understand functions and why they are useful.\n",
    "- ✅ Learn how to define and call functions.\n",
    "- ✅ Work with function arguments and return values.\n",
    "- ✅ Learn about built-in functions and lambda functions.\n",
    "- ✅ Understand error handling using try-except."
   ]
  },
  {
   "cell_type": "markdown",
   "id": "ef7a615e",
   "metadata": {},
   "source": [
    "## 📢 4.1 Defining and Calling Functions\n",
    "**📝 Explanation:**\n",
    "Functions are reusable blocks of code that perform a specific task.\n",
    "\n",
    "**👉 Syntax:**"
   ]
  },
  {
   "cell_type": "code",
   "execution_count": 10,
   "id": "abe527f4",
   "metadata": {},
   "outputs": [
    {
     "name": "stdout",
     "output_type": "stream",
     "text": [
      "Hello, World!\n"
     ]
    }
   ],
   "source": [
    "def function_name():\n",
    "    # Code inside function\n",
    "    print('Hello, World!')\n",
    "function_name()"
   ]
  },
  {
   "cell_type": "markdown",
   "id": "7a944823",
   "metadata": {},
   "source": [
    "**👉 Example:**"
   ]
  },
  {
   "cell_type": "code",
   "execution_count": 11,
   "id": "77ac8158",
   "metadata": {},
   "outputs": [
    {
     "name": "stdout",
     "output_type": "stream",
     "text": [
      "Hello! Welcome to Python.\n"
     ]
    }
   ],
   "source": [
    "def greet():\n",
    "    print('Hello! Welcome to Python.')\n",
    "\n",
    "greet()  # Calling the function"
   ]
  },
  {
   "cell_type": "markdown",
   "id": "fbb6bd42",
   "metadata": {},
   "source": [
    "🎯 **Mini Challenge:**\n",
    "Write a function that prints your name and favorite programming language."
   ]
  },
  {
   "cell_type": "code",
   "execution_count": 12,
   "id": "e8d3aadb",
   "metadata": {},
   "outputs": [
    {
     "name": "stdout",
     "output_type": "stream",
     "text": [
      "Hi, my name is Vivek and my fav lang is python?\n"
     ]
    }
   ],
   "source": [
    "def greet():\n",
    "    print('Hi, my name is Vivek and my fav lang is python?')\n",
    "\n",
    "greet()  # Calling the function"
   ]
  },
  {
   "cell_type": "markdown",
   "id": "29b7bd3b",
   "metadata": {},
   "source": [
    "## 📢 4.2 Function Arguments and Return Values\n",
    "**📝 Explanation:**\n",
    "Functions can accept arguments (parameters) to work with different inputs.\n",
    "The `return` statement is used to send back a value.\n",
    "\n",
    "From a function's perspective:\n",
    "\n",
    "A parameter is the variable listed inside the parentheses in the function definition.\n",
    "An argument is the value that is sent to the function when it is called.\n",
    "\n",
    "**👉 Example:**"
   ]
  },
  {
   "cell_type": "code",
   "execution_count": null,
   "id": "2138dd69",
   "metadata": {},
   "outputs": [
    {
     "name": "stdout",
     "output_type": "stream",
     "text": [
      "Sum: 8\n"
     ]
    }
   ],
   "source": [
    "def add(a, b):\n",
    "    return a + b\n",
    "\n",
    "result = add(5, 3)\n",
    "print('Sum:', result)  # Output: Sum: 8"
   ]
  },
  {
   "cell_type": "markdown",
   "id": "6be42f2c",
   "metadata": {},
   "source": [
    "🎯 **Mini Challenge:**\n",
    "Write a function that takes two numbers and returns their product."
   ]
  },
  {
   "cell_type": "code",
   "execution_count": 14,
   "id": "068570db",
   "metadata": {},
   "outputs": [
    {
     "name": "stdout",
     "output_type": "stream",
     "text": [
      "Sum: 15\n"
     ]
    }
   ],
   "source": [
    "def prod(a, b):\n",
    "    return a * b\n",
    "\n",
    "result = prod(5, 3)\n",
    "print('Sum:', result)  # Output: Sum: 8"
   ]
  },
  {
   "cell_type": "markdown",
   "id": "757253b0",
   "metadata": {},
   "source": [
    "### Arbitrary Arguments, *args\n",
    "If you do not know how many arguments that will be passed into your function, **add a * before the parameter name** in the function definition.\n",
    "\n",
    "This way the function will receive a **tuple of arguments**, and can access the items accordingly:"
   ]
  },
  {
   "cell_type": "code",
   "execution_count": 15,
   "id": "d67a388c",
   "metadata": {},
   "outputs": [
    {
     "name": "stdout",
     "output_type": "stream",
     "text": [
      "The smallest number is 1\n"
     ]
    }
   ],
   "source": [
    "def my_function(*num):\n",
    "  print(\"The smallest number is \" + num[0])\n",
    "\n",
    "my_function('1', '2', '3', '4')"
   ]
  },
  {
   "cell_type": "markdown",
   "id": "ddd5bfae",
   "metadata": {},
   "source": [
    "### 📢 4.5 Keyword Arguments & *kwargs\n",
    "📝 Keyword Arguments (kwargs)\n",
    "In Python, keyword arguments allow you to pass values to a function using the parameter names. This makes the function calls more readable and flexible.\n",
    "\n",
    "👉 Example:"
   ]
  },
  {
   "cell_type": "code",
   "execution_count": 16,
   "id": "2b305d3f",
   "metadata": {},
   "outputs": [
    {
     "name": "stdout",
     "output_type": "stream",
     "text": [
      "Hello, Alice! You are 25 years old.\n",
      "Hello, Bob! You are 30 years old.\n"
     ]
    }
   ],
   "source": [
    "def greet(name, age):\n",
    "    print(f\"Hello, {name}! You are {age} years old.\")\n",
    "\n",
    "greet(name=\"Alice\", age=25)  # Using keyword arguments\n",
    "greet(age=30, name=\"Bob\")  # Order doesn't matter"
   ]
  },
  {
   "cell_type": "markdown",
   "id": "32205db8",
   "metadata": {},
   "source": [
    "✅ Key Takeaways:\n",
    "\n",
    "- Keyword arguments improve readability.\n",
    "- Order of arguments doesn’t matter when using keywords."
   ]
  },
  {
   "cell_type": "markdown",
   "id": "554cd578",
   "metadata": {},
   "source": [
    "### 📝 *kwargs (Keyword Arguments Dictionary)\n",
    "*kwargs allows passing multiple keyword arguments as a dictionary. This is useful when the number of arguments is unknown.\n",
    "\n",
    "👉 Example:\n"
   ]
  },
  {
   "cell_type": "code",
   "execution_count": 17,
   "id": "2d3bb249",
   "metadata": {},
   "outputs": [
    {
     "name": "stdout",
     "output_type": "stream",
     "text": [
      "name: Alice\n",
      "age: 25\n",
      "country: USA\n",
      "gender: male\n"
     ]
    }
   ],
   "source": [
    "def display_info(**kwargs):\n",
    "    for key, value in kwargs.items():\n",
    "        print(f\"{key}: {value}\")\n",
    "\n",
    "display_info(name=\"Alice\", age=25, country=\"USA\", gender='male')"
   ]
  },
  {
   "cell_type": "markdown",
   "id": "807cd5ce",
   "metadata": {},
   "source": [
    "✅ Key Takeaways:\n",
    "- **kwargs collects multiple keyword arguments as a dictionary.\n",
    "- Useful when the number of arguments is unknown."
   ]
  },
  {
   "cell_type": "markdown",
   "id": "9d18fd1f",
   "metadata": {},
   "source": [
    "### **🎯 Mini Challenge:**\n",
    "Write a function student_info that accepts a student's name, age, and any number of additional details using **kwargs. Print all the details in a structured format."
   ]
  },
  {
   "cell_type": "code",
   "execution_count": 18,
   "id": "22eb4114",
   "metadata": {},
   "outputs": [
    {
     "name": "stdout",
     "output_type": "stream",
     "text": [
      "name: Alice\n",
      "age: 25\n",
      "branch: CS\n",
      "gender: female\n"
     ]
    }
   ],
   "source": [
    "def display_info(**kwargs):\n",
    "    for key, value in kwargs.items():\n",
    "        print(f\"{key}: {value}\")\n",
    "\n",
    "display_info(name=\"Alice\", age=25, branch=\"CS\", gender='female')"
   ]
  },
  {
   "cell_type": "markdown",
   "id": "2b0d1618",
   "metadata": {},
   "source": [
    "## 📢 4.3 Built-in Functions & Lambda Functions\n",
    "**📝 Explanation:**\n",
    "Built-in functions like `len()`, `sum()`, `max()`, etc., are already available in Python.\n",
    "Lambda functions are small, anonymous functions.\n",
    "\n",
    "**👉 Example of a Lambda Function:**"
   ]
  },
  {
   "cell_type": "code",
   "execution_count": 19,
   "id": "3d6e3698",
   "metadata": {},
   "outputs": [
    {
     "name": "stdout",
     "output_type": "stream",
     "text": [
      "16\n"
     ]
    }
   ],
   "source": [
    "square = lambda x: x ** 2\n",
    "print(square(4))  # Output: 16"
   ]
  },
  {
   "cell_type": "markdown",
   "id": "1f0cc93b",
   "metadata": {},
   "source": [
    "🎯 **Mini Challenge:**\n",
    "Write a lambda function to find the maximum of two numbers."
   ]
  },
  {
   "cell_type": "code",
   "execution_count": 20,
   "id": "aa40cfe9",
   "metadata": {},
   "outputs": [
    {
     "name": "stdout",
     "output_type": "stream",
     "text": [
      "7\n"
     ]
    }
   ],
   "source": [
    "max = lambda a, b: a if a>b else b\n",
    "print(max(4, 7))  # Output: 16"
   ]
  },
  {
   "cell_type": "markdown",
   "id": "c0dc9710",
   "metadata": {},
   "source": [
    "### **📢 4.5 Recursion in Python**\n",
    "\n",
    "Recursion is when a function calls itself to solve a smaller instance of the same problem. Every recursive function must have:\n",
    "✅ Base Case – Stops the recursion.\n",
    "✅ Recursive Case – Calls the function again with modified input.\n",
    "\n",
    "👉 Example: Factorial using Recursion"
   ]
  },
  {
   "cell_type": "code",
   "execution_count": 21,
   "id": "9a602e69",
   "metadata": {},
   "outputs": [
    {
     "name": "stdout",
     "output_type": "stream",
     "text": [
      "120\n"
     ]
    }
   ],
   "source": [
    "def factorial(n):\n",
    "    if n == 0:  # Base case\n",
    "        return 1\n",
    "    return n * factorial(n - 1)  # Recursive call 5*4*3*2*1\n",
    "\n",
    "print(factorial(5))  "
   ]
  },
  {
   "cell_type": "markdown",
   "id": "3599b991",
   "metadata": {},
   "source": [
    "#### 📈 Key Takeaways:\n",
    "- Recursion simplifies problems that can be broken into smaller subproblems.\n",
    "- Each recursive call creates a new function call in memory (stack).\n",
    "- Always define a base case to prevent infinite recursion.\n",
    "\n",
    "#### 🎯 Mini Challenge:\n",
    "Write a recursive function sum_of_digits(n) that returns the sum of the digits of a number.\n",
    "\n",
    "👉 Example Input & Output:"
   ]
  },
  {
   "cell_type": "code",
   "execution_count": 23,
   "id": "bd220f72",
   "metadata": {},
   "outputs": [
    {
     "name": "stdout",
     "output_type": "stream",
     "text": [
      "11\n"
     ]
    }
   ],
   "source": [
    "def sum_of_digits(n):\n",
    "    if n == 0:  # Base case\n",
    "        return 0\n",
    "    return n % 10 + sum_of_digits(n//10)  # Recursive call 5*4*3*2*1\n",
    "\n",
    "print(sum_of_digits(416))  "
   ]
  },
  {
   "cell_type": "markdown",
   "id": "446c1a7f",
   "metadata": {},
   "source": [
    "## 📢 4.4 Error Handling using try-except\n",
    "**📝 Explanation:**\n",
    "Errors (exceptions) can crash a program. `try-except` helps handle them gracefully.\n",
    "\n",
    "**👉 Example:**"
   ]
  },
  {
   "cell_type": "code",
   "execution_count": 24,
   "id": "e00dea71",
   "metadata": {},
   "outputs": [
    {
     "name": "stdout",
     "output_type": "stream",
     "text": [
      "Invalid input! Please enter a number.\n"
     ]
    }
   ],
   "source": [
    "try:\n",
    "    num = int(input('Enter a number: '))\n",
    "    print('You entered:', num)\n",
    "except ValueError:\n",
    "    print('Invalid input! Please enter a number.')"
   ]
  },
  {
   "cell_type": "markdown",
   "id": "2a0f206c",
   "metadata": {},
   "source": [
    "🎯 **Mini Challenge:**\n",
    "Write a program that handles division by zero."
   ]
  },
  {
   "cell_type": "code",
   "execution_count": 25,
   "id": "5296308b",
   "metadata": {},
   "outputs": [
    {
     "name": "stdout",
     "output_type": "stream",
     "text": [
      "error, cannot divide it by zero\n"
     ]
    }
   ],
   "source": [
    "try:\n",
    "    num1 = int(input('Enter a number: '))\n",
    "    num2 = int(input('Enter a number: '))\n",
    "    result = num1/num2\n",
    "    print('result', result)\n",
    "except ZeroDivisionError:\n",
    "    print(\"error, cannot divide it by zero\")\n",
    "except ValueError:\n",
    "    print('Invalid input! Please enter a number.')"
   ]
  },
  {
   "cell_type": "markdown",
   "id": "781d09c6",
   "metadata": {},
   "source": [
    "## 📝 Module 4 Quiz (Multiple Choice)\n",
    "**✅ Q1: What is a function in Python?**\n",
    "A) A loop\n",
    "\n",
    "B) A block of reusable code ✅\n",
    "\n",
    "C) A variable\n",
    "\n",
    "D) A module\n",
    "\n",
    "**✅ Q2: What keyword is used to define a function?**\n",
    "A) define\n",
    "\n",
    "B) function\n",
    "\n",
    "C) def ✅\n",
    "\n",
    "D) create\n",
    "\n",
    "**✅ Q3: What will this function return?**"
   ]
  },
  {
   "cell_type": "code",
   "execution_count": 1,
   "id": "85236647",
   "metadata": {},
   "outputs": [
    {
     "name": "stdout",
     "output_type": "stream",
     "text": [
      "12\n"
     ]
    }
   ],
   "source": [
    "def multiply(x, y):\n",
    "    return x * y\n",
    "\n",
    "print(multiply(3, 4))"
   ]
  },
  {
   "cell_type": "markdown",
   "id": "f24bbc78",
   "metadata": {},
   "source": [
    "A) 12 ✅\n",
    "\n",
    "B) 7\n",
    "\n",
    "C) Error\n",
    "\n",
    "D) None\n",
    "\n",
    "**✅ Q4: What does the try-except block do?**\n",
    "\n",
    "A) Loops through a list\n",
    "\n",
    "B) Handles errors ✅\n",
    "\n",
    "C) Defines a function\n",
    "\n",
    "D) Declares a variable\n",
    "\n",
    "**✅ Q5: How do you write a lambda function to add two numbers?**\n",
    "\n",
    "A) `lambda x, y: x + y` ✅\n",
    "\n",
    "B) `def lambda x, y: x + y`\n",
    "\n",
    "C) `lambda(x, y) = x + y`\n",
    "\n",
    "D) `return lambda x + y`"
   ]
  },
  {
   "cell_type": "markdown",
   "id": "20dcd096",
   "metadata": {},
   "source": [
    "## 🎯 Module 4 Summary\n",
    "- ✅ Functions help write reusable and organized code.\n",
    "- ✅ Functions can take arguments and return values.\n",
    "- ✅ Lambda functions provide a shorter way to define simple functions.\n",
    "- ✅ Error handling using `try-except` prevents crashes.\n",
    "\n",
    "**👉 Next Steps: Module 5 – Working with Data Structures**\n",
    "In the next module, we will explore lists, tuples, dictionaries, and sets to manage data efficiently! 🚀"
   ]
  }
 ],
 "metadata": {
  "kernelspec": {
   "display_name": "Python 3",
   "language": "python",
   "name": "python3"
  },
  "language_info": {
   "codemirror_mode": {
    "name": "ipython",
    "version": 3
   },
   "file_extension": ".py",
   "mimetype": "text/x-python",
   "name": "python",
   "nbconvert_exporter": "python",
   "pygments_lexer": "ipython3",
   "version": "3.9.6"
  }
 },
 "nbformat": 4,
 "nbformat_minor": 5
}
