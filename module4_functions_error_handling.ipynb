{
 "cells": [
  {
   "cell_type": "markdown",
   "id": "4f58d484",
   "metadata": {},
   "source": [
    "# 📈 Module 4: Functions & Error Handling"
   ]
  },
  {
   "cell_type": "markdown",
   "id": "261f637e",
   "metadata": {},
   "source": [
    "## 🎯 Learning Goals:\n",
    "- ✅ Understand functions and why they are useful.\n",
    "- ✅ Learn how to define and call functions.\n",
    "- ✅ Work with function arguments and return values.\n",
    "- ✅ Learn about built-in functions and lambda functions.\n",
    "- ✅ Understand error handling using try-except."
   ]
  },
  {
   "cell_type": "markdown",
   "id": "ef7a615e",
   "metadata": {},
   "source": [
    "## 📢 4.1 Defining and Calling Functions\n",
    "**📝 Explanation:**\n",
    "Functions are reusable blocks of code that perform a specific task.\n",
    "\n",
    "**👉 Syntax:**"
   ]
  },
  {
   "cell_type": "code",
   "execution_count": null,
   "id": "abe527f4",
   "metadata": {},
   "outputs": [],
   "source": [
    "def function_name():\n",
    "    # Code inside function\n",
    "    print('Hello, World!')"
   ]
  },
  {
   "cell_type": "markdown",
   "id": "7a944823",
   "metadata": {},
   "source": [
    "**👉 Example:**"
   ]
  },
  {
   "cell_type": "code",
   "execution_count": null,
   "id": "77ac8158",
   "metadata": {},
   "outputs": [],
   "source": [
    "def greet():\n",
    "    print('Hello! Welcome to Python.')\n",
    "\n",
    "greet()  # Calling the function"
   ]
  },
  {
   "cell_type": "markdown",
   "id": "fbb6bd42",
   "metadata": {},
   "source": [
    "🎯 **Mini Challenge:**\n",
    "Write a function that prints your name and favorite programming language."
   ]
  },
  {
   "cell_type": "markdown",
   "id": "29b7bd3b",
   "metadata": {},
   "source": [
    "## 📢 4.2 Function Arguments and Return Values\n",
    "**📝 Explanation:**\n",
    "Functions can accept arguments (parameters) to work with different inputs.\n",
    "The `return` statement is used to send back a value.\n",
    "\n",
    "**👉 Example:**"
   ]
  },
  {
   "cell_type": "code",
   "execution_count": null,
   "id": "2138dd69",
   "metadata": {},
   "outputs": [],
   "source": [
    "def add(a, b):\n",
    "    return a + b\n",
    "\n",
    "result = add(5, 3)\n",
    "print('Sum:', result)  # Output: Sum: 8"
   ]
  },
  {
   "cell_type": "markdown",
   "id": "7635633c",
   "metadata": {},
   "source": [
    "🎯 **Mini Challenge:**\n",
    "Write a function that takes two numbers and returns their product."
   ]
  },
  {
   "cell_type": "markdown",
   "id": "2b0d1618",
   "metadata": {},
   "source": [
    "## 📢 4.3 Built-in Functions & Lambda Functions\n",
    "**📝 Explanation:**\n",
    "Built-in functions like `len()`, `sum()`, `max()`, etc., are already available in Python.\n",
    "Lambda functions are small, anonymous functions.\n",
    "\n",
    "**👉 Example of a Lambda Function:**"
   ]
  },
  {
   "cell_type": "code",
   "execution_count": null,
   "id": "3d6e3698",
   "metadata": {},
   "outputs": [],
   "source": [
    "square = lambda x: x ** 2\n",
    "print(square(4))  # Output: 16"
   ]
  },
  {
   "cell_type": "markdown",
   "id": "1f0cc93b",
   "metadata": {},
   "source": [
    "🎯 **Mini Challenge:**\n",
    "Write a lambda function to find the maximum of two numbers."
   ]
  },
  {
   "cell_type": "markdown",
   "id": "446c1a7f",
   "metadata": {},
   "source": [
    "## 📢 4.4 Error Handling using try-except\n",
    "**📝 Explanation:**\n",
    "Errors (exceptions) can crash a program. `try-except` helps handle them gracefully.\n",
    "\n",
    "**👉 Example:**"
   ]
  },
  {
   "cell_type": "code",
   "execution_count": null,
   "id": "e00dea71",
   "metadata": {},
   "outputs": [],
   "source": [
    "try:\n",
    "    num = int(input('Enter a number: '))\n",
    "    print('You entered:', num)\n",
    "except ValueError:\n",
    "    print('Invalid input! Please enter a number.')"
   ]
  },
  {
   "cell_type": "markdown",
   "id": "2a0f206c",
   "metadata": {},
   "source": [
    "🎯 **Mini Challenge:**\n",
    "Write a program that handles division by zero."
   ]
  },
  {
   "cell_type": "markdown",
   "id": "781d09c6",
   "metadata": {},
   "source": [
    "## 📝 Module 4 Quiz (Multiple Choice)\n",
    "**✅ Q1: What is a function in Python?**\n",
    "A) A loop\n",
    "\n",
    "B) A block of reusable code ✅\n",
    "\n",
    "C) A variable\n",
    "\n",
    "D) A module\n",
    "\n",
    "**✅ Q2: What keyword is used to define a function?**\n",
    "A) define\n",
    "\n",
    "B) function\n",
    "\n",
    "C) def ✅\n",
    "\n",
    "D) create\n",
    "\n",
    "**✅ Q3: What will this function return?**"
   ]
  },
  {
   "cell_type": "code",
   "execution_count": 1,
   "id": "85236647",
   "metadata": {},
   "outputs": [
    {
     "name": "stdout",
     "output_type": "stream",
     "text": [
      "12\n"
     ]
    }
   ],
   "source": [
    "def multiply(x, y):\n",
    "    return x * y\n",
    "\n",
    "print(multiply(3, 4))"
   ]
  },
  {
   "cell_type": "markdown",
   "id": "f24bbc78",
   "metadata": {},
   "source": [
    "A) 12 ✅\n",
    "\n",
    "B) 7\n",
    "\n",
    "C) Error\n",
    "\n",
    "D) None\n",
    "\n",
    "**✅ Q4: What does the try-except block do?**\n",
    "\n",
    "A) Loops through a list\n",
    "\n",
    "B) Handles errors ✅\n",
    "\n",
    "C) Defines a function\n",
    "\n",
    "D) Declares a variable\n",
    "\n",
    "**✅ Q5: How do you write a lambda function to add two numbers?**\n",
    "\n",
    "A) `lambda x, y: x + y` ✅\n",
    "\n",
    "B) `def lambda x, y: x + y`\n",
    "\n",
    "C) `lambda(x, y) = x + y`\n",
    "\n",
    "D) `return lambda x + y`"
   ]
  },
  {
   "cell_type": "markdown",
   "id": "20dcd096",
   "metadata": {},
   "source": [
    "## 🎯 Module 4 Summary\n",
    "- ✅ Functions help write reusable and organized code.\n",
    "- ✅ Functions can take arguments and return values.\n",
    "- ✅ Lambda functions provide a shorter way to define simple functions.\n",
    "- ✅ Error handling using `try-except` prevents crashes.\n",
    "\n",
    "**👉 Next Steps: Module 5 – Working with Data Structures**\n",
    "In the next module, we will explore lists, tuples, dictionaries, and sets to manage data efficiently! 🚀"
   ]
  }
 ],
 "metadata": {
  "kernelspec": {
   "display_name": "Python 3",
   "language": "python",
   "name": "python3"
  },
  "language_info": {
   "codemirror_mode": {
    "name": "ipython",
    "version": 3
   },
   "file_extension": ".py",
   "mimetype": "text/x-python",
   "name": "python",
   "nbconvert_exporter": "python",
   "pygments_lexer": "ipython3",
   "version": "3.9.6"
  }
 },
 "nbformat": 4,
 "nbformat_minor": 5
}
