{
 "cells": [
  {
   "cell_type": "markdown",
   "id": "04cafd8e",
   "metadata": {},
   "source": [
    "# 📈 Module 6: File Handling in Python\n",
    "## 🎯 Learning Goals:\n",
    "- Why File Handling Matters?\n",
    "- The Pythonic Way – Using with open()\n",
    "- Writing to a File\n",
    "- Appending Data Instead of Overwriting\n",
    "- Reading Large Files Efficiently\n",
    "- Working with CSV Files (Real-World Use Case)\n",
    "- Handle file exceptions properly.\n"
   ]
  },
  {
   "cell_type": "markdown",
   "id": "c94aa07e",
   "metadata": {},
   "source": [
    "## 📢 6.1 Opening and Closing Files\n",
    "Python provides the `open()` function to work with files. It requires two parameters:\n",
    "- **Filename** - The name of the file.\n",
    "- **Mode** - Defines what you want to do with the file (read, write, append, etc.).\n"
   ]
  },
  {
   "cell_type": "code",
   "execution_count": null,
   "id": "b6382271",
   "metadata": {},
   "outputs": [],
   "source": [
    "# Opening and closing a file\n",
    "file = open(\"example.txt\", \"r\")  # Opens a file in read mode\n",
    "file.close()  # Closes the file"
   ]
  },
  {
   "cell_type": "code",
   "execution_count": 1,
   "id": "670cd48e",
   "metadata": {},
   "outputs": [],
   "source": [
    "# Example: Writing to a file\n",
    "file = open(\"sample.txt\", \"w\")  # Open in write mode\n",
    "file.write(\"Hello, world!\")  # Write to the file\n",
    "file.close()  # Always close the file"
   ]
  },
  {
   "cell_type": "markdown",
   "id": "005e9510",
   "metadata": {},
   "source": [
    "## 🎯 Mini Challenge:\n",
    "Create and write your name and favorite hobby to a file.\n"
   ]
  },
  {
   "cell_type": "markdown",
   "id": "e94d9acb",
   "metadata": {},
   "source": [
    "## 📢 6.2 File Modes\n",
    "Python has different file modes for different operations:\n",
    "- `r` → Read (default mode, file must exist)\n",
    "- `w` → Write (creates a new file or overwrites existing one)\n",
    "- `a` → Append (adds content to the end of the file)\n",
    "- `rb`, `wb` → Read/Write binary files\n"
   ]
  },
  {
   "cell_type": "code",
   "execution_count": null,
   "id": "873d4461",
   "metadata": {},
   "outputs": [],
   "source": [
    "# Example: Append mode\n",
    "file = open(\"data.txt\", \"a\")  # Open in append mode\n",
    "file.write(\"Adding new data\\n\")\n",
    "file.close()"
   ]
  },
  {
   "cell_type": "markdown",
   "id": "98a7a343",
   "metadata": {},
   "source": [
    "## 🎯 Mini Challenge:\n",
    "Open a file in append mode and write three new lines.\n"
   ]
  },
  {
   "cell_type": "code",
   "execution_count": null,
   "id": "1d52b71c",
   "metadata": {},
   "outputs": [],
   "source": []
  },
  {
   "cell_type": "markdown",
   "id": "9b0fbaf8",
   "metadata": {},
   "source": [
    "## 📢 6.3 Reading Files\n",
    "To read a file’s content, we use read methods:\n",
    "- `.read()` → Reads the entire file.\n",
    "- `.readline()` → Reads one line at a time.\n",
    "- `.readlines()` → Returns a list of all lines.\n"
   ]
  },
  {
   "cell_type": "code",
   "execution_count": null,
   "id": "6b13d2d2",
   "metadata": {},
   "outputs": [],
   "source": [
    "# Example: Reading a file\n",
    "file = open(\"sample.txt\", \"r\")\n",
    "content = file.read()\n",
    "print(content)  # Prints file content\n",
    "file.close()"
   ]
  },
  {
   "cell_type": "markdown",
   "id": "4c8abde6",
   "metadata": {},
   "source": [
    "## 🎯 Mini Challenge:\n",
    "Write a Python program that reads and prints the first two lines of a file.\n"
   ]
  },
  {
   "cell_type": "markdown",
   "id": "11f1b67a",
   "metadata": {},
   "source": [
    "## 📢 6.4 Using the with Statement\n",
    "Using `with` automatically closes the file after use, reducing errors.\n"
   ]
  },
  {
   "cell_type": "code",
   "execution_count": null,
   "id": "bd319780",
   "metadata": {},
   "outputs": [],
   "source": [
    "# Example: Using with\n",
    "with open(\"notes.txt\", \"r\") as file:\n",
    "    print(file.read())"
   ]
  },
  {
   "cell_type": "markdown",
   "id": "7f8d86f6",
   "metadata": {},
   "source": [
    "## 🎯 Mini Challenge:\n",
    "Modify the above example to write text to the file using `with`.\n"
   ]
  },
  {
   "cell_type": "markdown",
   "id": "bf918285",
   "metadata": {},
   "source": [
    "## 📢 6.5 Writing and Appending to Files\n",
    "- `.write()` → Writes content to a file.\n",
    "- `.writelines()` → Writes multiple lines at once.\n",
    "- Opening in append mode (`a`) adds new content without overwriting.\n"
   ]
  },
  {
   "cell_type": "code",
   "execution_count": null,
   "id": "2b7bc7d4",
   "metadata": {},
   "outputs": [],
   "source": [
    "# Example: Writing multiple lines using with\n",
    "with open(\"myfile.txt\", \"w\") as file:\n",
    "    file.write(\"Python is fun!\\n\")\n",
    "    file.write(\"Let's learn more.\")"
   ]
  },
  {
   "cell_type": "markdown",
   "id": "3de68d6e",
   "metadata": {},
   "source": [
    "## 🎯 Mini Challenge:\n",
    "Write a program that asks for user input and writes it to a file.\n"
   ]
  },
  {
   "cell_type": "markdown",
   "id": "44d16ca2",
   "metadata": {},
   "source": [
    "## 📢 6.6 Handling File Exceptions\n",
    "Errors (like file not found) can crash a program. We use `try-except` to handle errors gracefully.\n"
   ]
  },
  {
   "cell_type": "code",
   "execution_count": null,
   "id": "d4a78123",
   "metadata": {},
   "outputs": [],
   "source": [
    "# Example: Handling File Not Found Error\n",
    "try:\n",
    "    with open(\"nonexistent.txt\", \"r\") as file:\n",
    "        print(file.read())\n",
    "except FileNotFoundError:\n",
    "    print(\"File does not exist!\")"
   ]
  },
  {
   "cell_type": "markdown",
   "id": "4eb9a2a3",
   "metadata": {},
   "source": [
    "## 🎯 Mini Challenge:\n",
    "Modify the above example to handle a permission error.\n"
   ]
  },
  {
   "cell_type": "markdown",
   "id": "49f8140b",
   "metadata": {},
   "source": [
    "## 📝 Module 6 Quiz (Multiple Choice)\n",
    "✅ Q1: What is the default mode when opening a file?\n",
    " - A) `r` ✅\n",
    " - B) `w`\n",
    " - C) `a`\n",
    " - D) `rb`\n",
    "\n",
    "✅ Q2: What does `.readlines()` return?\n",
    " - A) A string\n",
    " - B) A list of lines ✅\n",
    " - C) A dictionary\n",
    " - D) An integer\n",
    "\n",
    "✅ Q3: Why should you use the `with` statement for file handling?\n",
    " - A) It closes the file automatically ✅\n",
    " - B) It prevents syntax errors\n",
    " - C) It speeds up execution\n",
    " - D) It makes Python faster\n",
    "\n",
    "✅ Q4: How do you append data to a file without overwriting it?\n",
    " - A) Open the file in `w` mode\n",
    " - B) Open the file in `r` mode\n",
    " - C) Open the file in `a` mode ✅\n",
    " - D) Use `.readlines()`\n",
    "\n",
    "✅ Q5: What does the following code do?\n",
    "```python\n",
    "with open('test.txt', 'w') as file:\n",
    "    file.write('Hello, Python!')\n",
    "```\n",
    " - A) Reads a file\n",
    " - B) Writes to a file ✅\n",
    " - C) Appends data\n",
    " - D) Deletes a file\n"
   ]
  },
  {
   "cell_type": "markdown",
   "id": "dc3db142",
   "metadata": {},
   "source": [
    "## 🎯 Module 6 Summary\n",
    "- The `open()` function is used to open files in different modes.\n",
    "- `.read()`, `.readline()`, and `.readlines()` help read files.\n",
    "- `.write()` and append mode help modify files.\n",
    "- Using `with` is the best practice to manage file operations.\n",
    "- `try-except` prevents errors when handling files.\n"
   ]
  },
  {
   "cell_type": "markdown",
   "id": "820e27ef",
   "metadata": {},
   "source": [
    "## 👉 Next Steps: Module 7 – Object-Oriented Programming (OOP)\n",
    "In the next module, we will dive into **classes, objects, inheritance, and encapsulation** in Python! 🚀\n"
   ]
  }
 ],
 "metadata": {
  "kernelspec": {
   "display_name": "Python 3",
   "language": "python",
   "name": "python3"
  },
  "language_info": {
   "codemirror_mode": {
    "name": "ipython",
    "version": 3
   },
   "file_extension": ".py",
   "mimetype": "text/x-python",
   "name": "python",
   "nbconvert_exporter": "python",
   "pygments_lexer": "ipython3",
   "version": "3.9.6"
  }
 },
 "nbformat": 4,
 "nbformat_minor": 5
}
