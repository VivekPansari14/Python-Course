{
 "cells": [
  {
   "cell_type": "markdown",
   "id": "c0189650",
   "metadata": {},
   "source": [
    "# 📘 Module 3: Control Flow – Hard Coding Questions"
   ]
  },
  {
   "cell_type": "markdown",
   "id": "b3bf1cea",
   "metadata": {},
   "source": [
    "### 🚀 Instructions:\n",
    "- Solve the following coding challenges by filling in the missing parts.\n",
    "- Run the code to test your solution.\n",
    "- Full answers are provided at the end. Try your best before checking them!"
   ]
  },
  {
   "cell_type": "markdown",
   "id": "1412eeeb",
   "metadata": {},
   "source": [
    "### **Q1: Find the Largest of Three Numbers**"
   ]
  },
  {
   "cell_type": "code",
   "execution_count": null,
   "id": "03bb0539",
   "metadata": {},
   "outputs": [],
   "source": [
    "a = int(input(\"Enter first number: \"))\n",
    "b = int(input(\"Enter second number: \"))\n",
    "c = int(input(\"Enter third number: \"))\n",
    "\n",
    "# Fill in the missing condition to find the largest number\n",
    "if _______:\n",
    "    print(\"Largest number:\", a)\n",
    "elif _______:\n",
    "    print(\"Largest number:\", b)\n",
    "else:\n",
    "    print(\"Largest number:\", c)\n"
   ]
  },
  {
   "cell_type": "markdown",
   "id": "26d88c81",
   "metadata": {},
   "source": [
    "### **Q2: Discount Calculation**"
   ]
  },
  {
   "cell_type": "code",
   "execution_count": null,
   "id": "befd68b9",
   "metadata": {},
   "outputs": [],
   "source": [
    "age = int(input(\"Enter your age: \"))\n",
    "membership = input(\"Are you a premium member? (yes/no): \").lower()\n",
    "\n",
    "# Fill in the missing conditions\n",
    "if age < 18:\n",
    "    discount = ____  # Assign correct discount\n",
    "elif ____:\n",
    "    discount = ____\n",
    "elif ____:\n",
    "    discount = ____\n",
    "else:\n",
    "    discount = ____\n",
    "\n",
    "print(f\"You get a {discount}% discount!\")\n"
   ]
  },
  {
   "cell_type": "markdown",
   "id": "e50b6789",
   "metadata": {},
   "source": [
    "### **Q3: FizzBuzz Challenge**"
   ]
  },
  {
   "cell_type": "code",
   "execution_count": null,
   "id": "1f59bfb7",
   "metadata": {},
   "outputs": [],
   "source": [
    "for i in range(1, 101):\n",
    "    if ____:\n",
    "        print(\"FizzBuzz\")\n",
    "    elif ____:\n",
    "        print(\"Fizz\")\n",
    "    elif ____:\n",
    "        print(\"Buzz\")\n",
    "    else:\n",
    "        print(i)\n"
   ]
  },
  {
   "cell_type": "markdown",
   "id": "ac7432d6",
   "metadata": {},
   "source": [
    "### **Q4: Reverse a Number**"
   ]
  },
  {
   "cell_type": "code",
   "execution_count": null,
   "id": "bcd4cfff",
   "metadata": {},
   "outputs": [],
   "source": [
    "num = int(input(\"Enter a number: \"))\n",
    "rev = 0\n",
    "\n",
    "while num > 0:\n",
    "    rev = (rev * 10) + (num % 10)  # Complete the formula\n",
    "    num //= __  # Update the condition\n",
    "\n",
    "print(\"Reversed number:\", rev)\n"
   ]
  },
  {
   "cell_type": "markdown",
   "id": "4453e0b3",
   "metadata": {},
   "source": [
    "### **Q5: Check for Palindrome**"
   ]
  },
  {
   "cell_type": "code",
   "execution_count": null,
   "id": "74dd9427",
   "metadata": {},
   "outputs": [],
   "source": [
    "num = input(\"Enter a number: \")\n",
    "# Fill in the condition to check if it's a palindrome\n",
    "if _______:\n",
    "    print(\"It's a palindrome!\")\n",
    "else:\n",
    "    print(\"Not a palindrome.\")\n"
   ]
  },
  {
   "cell_type": "markdown",
   "id": "160e8563",
   "metadata": {},
   "source": [
    "### **Q6: Count Even and Odd Numbers in a List**"
   ]
  },
  {
   "cell_type": "code",
   "execution_count": null,
   "id": "c5b83497",
   "metadata": {},
   "outputs": [],
   "source": [
    "numbers = [10, 21, 32, 45, 66, 77, 88, 93, 100]\n",
    "even_count = sum(1 for num in numbers if __)\n",
    "odd_count = sum(1 for num in numbers if __)\n",
    "\n",
    "print(\"Even numbers:\", even_count)\n",
    "print(\"Odd numbers:\", odd_count)\n"
   ]
  },
  {
   "cell_type": "markdown",
   "id": "ac32fa31",
   "metadata": {},
   "source": [
    "### **Q7: First 10 Prime Numbers**"
   ]
  },
  {
   "cell_type": "code",
   "execution_count": null,
   "id": "a47b4563",
   "metadata": {},
   "outputs": [],
   "source": [
    "def is_prime(n):\n",
    "    if n < 2:\n",
    "        return False\n",
    "    for i in range(2, int(n**0.5) + 1):\n",
    "        if ______:\n",
    "            return False\n",
    "    return True\n",
    "\n",
    "count, num = 0, 2\n",
    "while _________:\n",
    "    if is_prime(num):\n",
    "        print(num, end=\" \")\n",
    "        count += 1\n",
    "    num += 1\n"
   ]
  },
  {
   "cell_type": "markdown",
   "id": "3c2a8675",
   "metadata": {},
   "source": [
    "### **Q8: Print a Pyramid Pattern**"
   ]
  },
  {
   "cell_type": "code",
   "execution_count": null,
   "id": "559a538d",
   "metadata": {},
   "outputs": [],
   "source": [
    "for i in range(1, 6):\n",
    "    print(__ * i)  # Fill in the correct character\n"
   ]
  },
  {
   "cell_type": "markdown",
   "id": "480d0d84",
   "metadata": {},
   "source": [
    "### **Q9: Sum of Digits**"
   ]
  },
  {
   "cell_type": "code",
   "execution_count": null,
   "id": "da9d019d",
   "metadata": {},
   "outputs": [],
   "source": [
    "num = int(input(\"Enter a number: \"))\n",
    "sum_digits = sum(int(digit) for digit in str(num))\n",
    "\n",
    "print(\"Sum of digits:\", __)  # Complete the print statement\n"
   ]
  },
  {
   "cell_type": "markdown",
   "id": "5ad52bcb",
   "metadata": {},
   "source": [
    "### **Q10: List Comprehension for Odd Squares**"
   ]
  },
  {
   "cell_type": "code",
   "execution_count": null,
   "id": "2ce843b6",
   "metadata": {},
   "outputs": [],
   "source": [
    "odd_squares = [x**2 for x in range(1, 21) if __]\n",
    "print(odd_squares)\n"
   ]
  },
  {
   "cell_type": "markdown",
   "id": "107c4e23",
   "metadata": {},
   "source": [
    "## 📌 Full Answers Below (Check Only After Attempting!)"
   ]
  },
  {
   "cell_type": "code",
   "execution_count": 3,
   "id": "696d6789",
   "metadata": {},
   "outputs": [
    {
     "ename": "NameError",
     "evalue": "name 'a' is not defined",
     "output_type": "error",
     "traceback": [
      "\u001b[0;31m---------------------------------------------------------------------------\u001b[0m",
      "\u001b[0;31mNameError\u001b[0m                                 Traceback (most recent call last)",
      "Cell \u001b[0;32mIn[3], line 2\u001b[0m\n\u001b[1;32m      1\u001b[0m \u001b[38;5;66;03m# Q1 Answer\u001b[39;00m\n\u001b[0;32m----> 2\u001b[0m \u001b[38;5;28;01mif\u001b[39;00m \u001b[43ma\u001b[49m \u001b[38;5;241m==\u001b[39m b \u001b[38;5;241m==\u001b[39m c:\n\u001b[1;32m      3\u001b[0m     \u001b[38;5;28mprint\u001b[39m(\u001b[38;5;124m\"\u001b[39m\u001b[38;5;124mAll numbers are equal\u001b[39m\u001b[38;5;124m\"\u001b[39m)\n\u001b[1;32m      4\u001b[0m \u001b[38;5;28;01melif\u001b[39;00m a \u001b[38;5;241m>\u001b[39m\u001b[38;5;241m=\u001b[39m b \u001b[38;5;129;01mand\u001b[39;00m a \u001b[38;5;241m>\u001b[39m\u001b[38;5;241m=\u001b[39m c:\n",
      "\u001b[0;31mNameError\u001b[0m: name 'a' is not defined"
     ]
    }
   ],
   "source": [
    "\n",
    "# Q1 Answer\n",
    "if a == b == c:\n",
    "    print(\"All numbers are equal\")\n",
    "elif a >= b and a >= c:\n",
    "    print(\"Largest number:\", a)\n",
    "elif b >= a and b >= c:\n",
    "    print(\"Largest number:\", b)\n",
    "else:\n",
    "    print(\"Largest number:\", c)\n",
    "\n",
    "# Q2 Answer\n",
    "if age < 18:\n",
    "    discount = 30\n",
    "elif age >= 60:\n",
    "    discount = 40\n",
    "elif membership == \"yes\":\n",
    "    discount = 20\n",
    "else:\n",
    "    discount = 10\n",
    "\n",
    "# Q3 Answer\n",
    "if i % 3 == 0 and i % 5 == 0:\n",
    "    print(\"FizzBuzz\")\n",
    "elif i % 3 == 0:\n",
    "    print(\"Fizz\")\n",
    "elif i % 5 == 0:\n",
    "    print(\"Buzz\")\n",
    "else:\n",
    "    print(i)\n",
    "\n",
    "# Q4 Answer\n",
    "num //= 10\n",
    "\n",
    "# Q5 Answer\n",
    "if num == num[::-1]:\n",
    "\n",
    "# Q6 Answer\n",
    " even_count = sum(1 for num in numbers if num % 2 == 0)\n",
    " odd_count = sum(1 for num in numbers if num % 2 != 0)\n",
    "\n",
    "# Q7 Answer\n",
    "if n % i == 0:\n",
    "\n",
    "# Q8 Answer\n",
    " print(\"*\" * i)\n",
    "\n",
    "# Q9 Answer\n",
    "print(\"Sum of digits:\", sum_digits)\n",
    "\n",
    "# Q10 Answer\n",
    "odd_squares = [x**2 for x in range(1, 21) if x % 2 != 0]\n",
    "\n"
   ]
  },
  {
   "cell_type": "code",
   "execution_count": null,
   "id": "1456f7f8",
   "metadata": {},
   "outputs": [],
   "source": []
  }
 ],
 "metadata": {
  "kernelspec": {
   "display_name": "Python 3",
   "language": "python",
   "name": "python3"
  },
  "language_info": {
   "codemirror_mode": {
    "name": "ipython",
    "version": 3
   },
   "file_extension": ".py",
   "mimetype": "text/x-python",
   "name": "python",
   "nbconvert_exporter": "python",
   "pygments_lexer": "ipython3",
   "version": "3.9.6"
  }
 },
 "nbformat": 4,
 "nbformat_minor": 5
}
