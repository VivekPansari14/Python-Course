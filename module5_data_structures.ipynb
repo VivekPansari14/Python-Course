{
 "cells": [
  {
   "cell_type": "markdown",
   "id": "5306f191",
   "metadata": {},
   "source": [
    "# 📈 Module 5: Data Structures in Python\n",
    "## 🎯 Learning Goals:\n",
    "- ✅ Understand lists, tuples, dictionaries, and sets.\n",
    "- ✅ Learn how to manipulate and iterate over data structures.\n",
    "- ✅ Understand when to use different data structures.\n",
    "- ✅ Perform basic operations like adding, removing, and modifying data.\n"
   ]
  },
  {
   "cell_type": "markdown",
   "id": "52fc0df2",
   "metadata": {},
   "source": [
    "## 📢 5.1 Lists: Ordered, Mutable Collections\n",
    "### 📝 Explanation:\n",
    "- In Python, a list is a built-in dynamic sized array (automatically grows and shrinks).\n",
    "- We can store all types of items (including another list) in a list\n",
    "- Lists are ordered collections that can store multiple items. \n",
    "- Lists are mutable, meaning their elements can be changed.\n",
    "#### 👉 Syntax:"
   ]
  },
  {
   "cell_type": "code",
   "execution_count": 1,
   "id": "69f3cb4c",
   "metadata": {},
   "outputs": [],
   "source": [
    "my_list = [1, 2, 3, 'apple', 'banana']\n",
    "list3 =['vivek', 'pansari']"
   ]
  },
  {
   "cell_type": "markdown",
   "id": "3ae6eabf",
   "metadata": {},
   "source": [
    "#### 👉 Example:"
   ]
  },
  {
   "cell_type": "code",
   "execution_count": 2,
   "id": "97d8a95c",
   "metadata": {},
   "outputs": [
    {
     "name": "stdout",
     "output_type": "stream",
     "text": [
      "['apple', 'banana', 'cherry', 'orange']\n"
     ]
    }
   ],
   "source": [
    "fruits = ['apple', 'banana', 'cherry']\n",
    "fruits.append('orange')  # Adds an element\n",
    "print(fruits)  # Output: ['apple', 'banana', 'cherry', 'orange']"
   ]
  },
  {
   "cell_type": "markdown",
   "id": "388afbf3",
   "metadata": {},
   "source": [
    "### List Length\n",
    "To determine how many items a list has, use the len() function:"
   ]
  },
  {
   "cell_type": "code",
   "execution_count": 3,
   "id": "f70367f6",
   "metadata": {},
   "outputs": [
    {
     "name": "stdout",
     "output_type": "stream",
     "text": [
      "3\n"
     ]
    }
   ],
   "source": [
    "thislist = [\"1\", \"2\", \"3\"]\n",
    "print(len(thislist))"
   ]
  },
  {
   "cell_type": "code",
   "execution_count": 4,
   "id": "903609be",
   "metadata": {},
   "outputs": [],
   "source": [
    "#example of different data types in a list\n",
    "list1 = [\"abc\", 34, True, 40, \"male\"]"
   ]
  },
  {
   "cell_type": "markdown",
   "id": "ad03f7d1",
   "metadata": {},
   "source": [
    "### The list() Constructor\n",
    "It is also possible to use the list() constructor when creating a new list."
   ]
  },
  {
   "cell_type": "code",
   "execution_count": 5,
   "id": "65298e28",
   "metadata": {},
   "outputs": [
    {
     "name": "stdout",
     "output_type": "stream",
     "text": [
      "['apple', 'banana', 'cherry']\n"
     ]
    }
   ],
   "source": [
    "thislist = list((\"apple\", \"banana\", \"cherry\")) # note the double round-brackets\n",
    "print(thislist)"
   ]
  },
  {
   "cell_type": "markdown",
   "id": "d094f776",
   "metadata": {},
   "source": [
    "### 🎯 Mini Challenge:\n",
    "Create a list of 5 cities and sort them in alphabetical order."
   ]
  },
  {
   "cell_type": "code",
   "execution_count": 6,
   "id": "209aa15e",
   "metadata": {},
   "outputs": [
    {
     "name": "stdout",
     "output_type": "stream",
     "text": [
      "['bangalore', 'delhi', 'mumbai']\n"
     ]
    }
   ],
   "source": [
    "thislist = list((\"delhi\", \"mumbai\", \"bangalore\"))\n",
    "thislist.sort()\n",
    "print(thislist)"
   ]
  },
  {
   "cell_type": "markdown",
   "id": "8edce1b3",
   "metadata": {},
   "source": [
    "### Access Items\n",
    "List items are indexed and you can access them by referring to the index number:"
   ]
  },
  {
   "cell_type": "code",
   "execution_count": 7,
   "id": "930d990b",
   "metadata": {},
   "outputs": [
    {
     "name": "stdout",
     "output_type": "stream",
     "text": [
      "banana\n"
     ]
    }
   ],
   "source": [
    "thislist = [\"apple\", \"banana\", \"cherry\"]\n",
    "print(thislist[1])"
   ]
  },
  {
   "cell_type": "markdown",
   "id": "cbb1eece",
   "metadata": {},
   "source": [
    "#### Negative Indexing\n",
    "Negative indexing means start from the end\n",
    "\n",
    "-1 refers to the last item, -2 refers to the second last item etc."
   ]
  },
  {
   "cell_type": "code",
   "execution_count": 8,
   "id": "412a7cfe",
   "metadata": {},
   "outputs": [
    {
     "name": "stdout",
     "output_type": "stream",
     "text": [
      "cherry\n"
     ]
    }
   ],
   "source": [
    "thislist = [\"apple\", \"banana\", \"cherry\"]\n",
    "print(thislist[-1])"
   ]
  },
  {
   "cell_type": "markdown",
   "id": "d0b60334",
   "metadata": {},
   "source": [
    "## 📢 5.2 Tuples: Ordered, Immutable Collections\n",
    "### 📝 Explanation:\n",
    "Tuples are similar to lists but immutable (cannot be changed after creation).\n",
    "\n",
    "Tuples are written with round brackets.\n",
    "\n",
    "\n",
    "#### 👉 Example:"
   ]
  },
  {
   "cell_type": "code",
   "execution_count": 9,
   "id": "5a7c6ee6",
   "metadata": {},
   "outputs": [
    {
     "name": "stdout",
     "output_type": "stream",
     "text": [
      "10\n",
      "(10, 20, 30, 40)\n"
     ]
    }
   ],
   "source": [
    "coordinates = (10, 20)\n",
    "my_tuple= (10, 20, 30, 40)\n",
    "print(coordinates[0])  # Output: 10\n",
    "print(my_tuple)"
   ]
  },
  {
   "cell_type": "markdown",
   "id": "e2fad50c",
   "metadata": {},
   "source": [
    "**A tuple can contain different data types:**\n",
    "\n",
    "#### 👉 Example:\n",
    "A tuple with strings, integers and boolean values:"
   ]
  },
  {
   "cell_type": "code",
   "execution_count": null,
   "id": "3ebe3089",
   "metadata": {},
   "outputs": [],
   "source": [
    "tuple1 = (\"abc\", 34, True, 40, \"male\")"
   ]
  },
  {
   "cell_type": "markdown",
   "id": "c097137c",
   "metadata": {},
   "source": [
    "### Tuple Length\n",
    "To determine how many items a tuple has, use the len() function:"
   ]
  },
  {
   "cell_type": "code",
   "execution_count": 10,
   "id": "0218fed2",
   "metadata": {},
   "outputs": [
    {
     "name": "stdout",
     "output_type": "stream",
     "text": [
      "3\n"
     ]
    }
   ],
   "source": [
    "thistuple = (\"apple\", \"banana\", \"cherry\")\n",
    "print(len(thistuple))"
   ]
  },
  {
   "cell_type": "markdown",
   "id": "62efebec",
   "metadata": {},
   "source": [
    "### 🎯 Mini Challenge:\n",
    "Create a tuple with three numbers and access the second element."
   ]
  },
  {
   "cell_type": "code",
   "execution_count": 11,
   "id": "b739dba8",
   "metadata": {},
   "outputs": [
    {
     "name": "stdout",
     "output_type": "stream",
     "text": [
      "banana\n"
     ]
    }
   ],
   "source": [
    "thistuple = (\"apple\", \"banana\", \"cherry\")\n",
    "print(thistuple[1])"
   ]
  },
  {
   "cell_type": "markdown",
   "id": "6e842fac",
   "metadata": {},
   "source": [
    "### Negative Indexing\n",
    "Negative indexing means start from the end.\n",
    "\n",
    "-1 refers to the last item, -2 refers to the second last item etc.\n",
    "\n"
   ]
  },
  {
   "cell_type": "code",
   "execution_count": 12,
   "id": "e56fce2f",
   "metadata": {},
   "outputs": [
    {
     "name": "stdout",
     "output_type": "stream",
     "text": [
      "15\n"
     ]
    }
   ],
   "source": [
    "numbers = (5, 10, 15)\n",
    "print(numbers[-1])  # Output: 10"
   ]
  },
  {
   "cell_type": "markdown",
   "id": "82841178",
   "metadata": {},
   "source": [
    "#### The tuple() Constructor\n",
    "It is also possible to use the tuple() constructor to make a tuple."
   ]
  },
  {
   "cell_type": "code",
   "execution_count": 13,
   "id": "98657065",
   "metadata": {},
   "outputs": [
    {
     "name": "stdout",
     "output_type": "stream",
     "text": [
      "('apple', 'banana', 'cherry')\n"
     ]
    }
   ],
   "source": [
    "thistuple = tuple((\"apple\", \"banana\", \"cherry\")) # note the double round-brackets\n",
    "print(thistuple)"
   ]
  },
  {
   "cell_type": "markdown",
   "id": "65b53eae",
   "metadata": {},
   "source": [
    "## 📢 5.3 Dictionaries: Key-Value Pairs\n",
    "### 📝 Explanation:\n",
    "Dictionaries store data as key-value pairs for quick lookups.\n",
    "A dictionary is a collection which is ordered*, changeable and do not allow duplicates.\n",
    "Dictionaries are written with curly brackets, and have keys and values:\n",
    "#### 👉 Example:"
   ]
  },
  {
   "cell_type": "code",
   "execution_count": 14,
   "id": "ac0c1b0a",
   "metadata": {},
   "outputs": [
    {
     "name": "stdout",
     "output_type": "stream",
     "text": [
      "John\n"
     ]
    }
   ],
   "source": [
    "student = {'name': 'John', 'age': 25, 'grade': 'A'}\n",
    "print(student['name'])  # Output: John"
   ]
  },
  {
   "cell_type": "code",
   "execution_count": 15,
   "id": "a16c93ee",
   "metadata": {},
   "outputs": [
    {
     "name": "stdout",
     "output_type": "stream",
     "text": [
      "25\n"
     ]
    }
   ],
   "source": [
    "print(student['age'])"
   ]
  },
  {
   "cell_type": "markdown",
   "id": "c353c5ed",
   "metadata": {},
   "source": [
    "### Dictionary Length\n",
    "To determine how many items a dictionary has, use the len() function:\n"
   ]
  },
  {
   "cell_type": "code",
   "execution_count": 16,
   "id": "18d6e1f7",
   "metadata": {},
   "outputs": [
    {
     "name": "stdout",
     "output_type": "stream",
     "text": [
      "3\n"
     ]
    }
   ],
   "source": [
    "print(len(student))"
   ]
  },
  {
   "cell_type": "markdown",
   "id": "2c96c71e",
   "metadata": {},
   "source": [
    "#### Dictionary Items - Data Types\n",
    "The values in dictionary items can be of any data type:"
   ]
  },
  {
   "cell_type": "code",
   "execution_count": 17,
   "id": "45ac1f53",
   "metadata": {},
   "outputs": [],
   "source": [
    "thisdict = {\n",
    "  \"brand\": \"Ford\",\n",
    "  \"electric\": False,\n",
    "  \"year\": 1964,\n",
    "  \"colors\": [\"red\", \"white\", \"blue\"]\n",
    "}"
   ]
  },
  {
   "cell_type": "markdown",
   "id": "4605e36a",
   "metadata": {},
   "source": [
    "### The dict() Constructor\n",
    "It is also possible to use the dict() constructor to make a dictionary."
   ]
  },
  {
   "cell_type": "code",
   "execution_count": 18,
   "id": "6686f025",
   "metadata": {},
   "outputs": [
    {
     "name": "stdout",
     "output_type": "stream",
     "text": [
      "{'name': 'John', 'age': 36, 'country': 'Norway'}\n"
     ]
    }
   ],
   "source": [
    "thisdict = dict(name = \"John\", age = 36, country = \"Norway\") #single round brackets are used\n",
    "print(thisdict)"
   ]
  },
  {
   "cell_type": "markdown",
   "id": "09a22fc3",
   "metadata": {},
   "source": [
    "#### Accessing Items\n",
    "You can access the items of a dictionary by referring to its key name, inside square brackets:"
   ]
  },
  {
   "cell_type": "code",
   "execution_count": 19,
   "id": "1375c7be",
   "metadata": {},
   "outputs": [
    {
     "name": "stdout",
     "output_type": "stream",
     "text": [
      "Mustang\n"
     ]
    }
   ],
   "source": [
    "thisdict = {\n",
    "  \"brand\": \"Ford\",\n",
    "  \"model\": \"Mustang\",\n",
    "  \"year\": 1964\n",
    "}\n",
    "x = thisdict[\"model\"]\n",
    "print(x)"
   ]
  },
  {
   "cell_type": "markdown",
   "id": "ec3f3ab8",
   "metadata": {},
   "source": [
    "There is also a method called get() that will give you the same result:"
   ]
  },
  {
   "cell_type": "code",
   "execution_count": 21,
   "id": "71a49869",
   "metadata": {},
   "outputs": [
    {
     "name": "stdout",
     "output_type": "stream",
     "text": [
      "Mustang\n"
     ]
    }
   ],
   "source": [
    "x = thisdict.get(\"model\")\n",
    "print(x)"
   ]
  },
  {
   "cell_type": "markdown",
   "id": "81678934",
   "metadata": {},
   "source": [
    "**Get Keys:**\n",
    "The keys() method will return a list of all the keys in the dictionary.\n",
    "\n",
    "**Get Items:**\n",
    "The items() method will return each item in a dictionary, as tuples in a list."
   ]
  },
  {
   "cell_type": "code",
   "execution_count": 22,
   "id": "104ba8c5",
   "metadata": {},
   "outputs": [
    {
     "name": "stdout",
     "output_type": "stream",
     "text": [
      "dict_keys(['brand', 'model', 'year'])\n"
     ]
    }
   ],
   "source": [
    "x = thisdict.keys()\n",
    "print(x)"
   ]
  },
  {
   "cell_type": "code",
   "execution_count": 23,
   "id": "1b4eb732",
   "metadata": {},
   "outputs": [
    {
     "name": "stdout",
     "output_type": "stream",
     "text": [
      "dict_items([('brand', 'Ford'), ('model', 'Mustang'), ('year', 1964)])\n"
     ]
    }
   ],
   "source": [
    "x = thisdict.items()\n",
    "print(x)"
   ]
  },
  {
   "cell_type": "markdown",
   "id": "b2402af4",
   "metadata": {},
   "source": [
    "### 🎯 Mini Challenge:\n",
    "Create a dictionary with three countries and their capitals."
   ]
  },
  {
   "cell_type": "code",
   "execution_count": 24,
   "id": "376df109",
   "metadata": {},
   "outputs": [
    {
     "name": "stdout",
     "output_type": "stream",
     "text": [
      "{'india': 'new delhi', 'USA': 'washington DC', 'Japan': 'Tokyo'}\n"
     ]
    }
   ],
   "source": [
    "countries={\"india\": 'new delhi', 'USA': 'washington DC', 'Japan': 'Tokyo'}\n",
    "print(countries)"
   ]
  },
  {
   "cell_type": "markdown",
   "id": "fa078f7d",
   "metadata": {},
   "source": [
    "#### `Nested Dictionaries`\n",
    "A dictionary can contain dictionaries, this is called nested dictionaries."
   ]
  },
  {
   "cell_type": "code",
   "execution_count": 25,
   "id": "01ddcb88",
   "metadata": {},
   "outputs": [
    {
     "name": "stdout",
     "output_type": "stream",
     "text": [
      "Tobias\n"
     ]
    }
   ],
   "source": [
    "#Created a dictionary that contain three dictionaries:\n",
    "\n",
    "myfamily = {\n",
    "  \"child1\" : {\n",
    "    \"name\" : \"Emil\",\n",
    "    \"year\" : 2004\n",
    "  },\n",
    "  \"child2\" : {\n",
    "    \"name\" : \"Tobias\",\n",
    "    \"year\" : 2007\n",
    "  },\n",
    "  \"child3\" : {\n",
    "    \"name\" : \"Linus\",\n",
    "    \"year\" : 2011\n",
    "  }\n",
    "}\n",
    "\n",
    "print(myfamily[\"child2\"][\"name\"])\n"
   ]
  },
  {
   "cell_type": "markdown",
   "id": "424787d8",
   "metadata": {},
   "source": [
    "## 📢 5.4 Sets: Unordered, Unique Collections\n",
    "### 📝 Explanation:\n",
    "Sets store unique elements and do not allow duplicates.\n",
    "A set is a collection which is unordered, unchangeable*, and unindexed.\n",
    "\n",
    "The set() Constructor\n",
    "It is also possible to use the set() constructor to make a set.\n",
    "#### 👉 Example:"
   ]
  },
  {
   "cell_type": "code",
   "execution_count": 1,
   "id": "f4a470bb",
   "metadata": {},
   "outputs": [
    {
     "name": "stdout",
     "output_type": "stream",
     "text": [
      "{1, 2, 3, 4, 5}\n"
     ]
    }
   ],
   "source": [
    "unique_numbers = {1, 2, 3, 4, 4, 5}\n",
    "print(unique_numbers)  # Output: {1, 2, 3, 4, 5}"
   ]
  },
  {
   "cell_type": "code",
   "execution_count": 2,
   "id": "1aed36dc",
   "metadata": {},
   "outputs": [
    {
     "name": "stdout",
     "output_type": "stream",
     "text": [
      "{'banana', 'cherry', 'apple'}\n"
     ]
    }
   ],
   "source": [
    "thisset = set((\"apple\", \"banana\", \"cherry\")) # note the double round-brackets\n",
    "print(thisset)"
   ]
  },
  {
   "cell_type": "markdown",
   "id": "98bd0037",
   "metadata": {},
   "source": [
    "### 🎯 Mini Challenge:\n",
    "Create a set with five unique colors."
   ]
  },
  {
   "cell_type": "code",
   "execution_count": 4,
   "id": "562b1a0b",
   "metadata": {},
   "outputs": [
    {
     "name": "stdout",
     "output_type": "stream",
     "text": [
      "{'blue', 'yellow', 'green', 'red', 'purple'}\n"
     ]
    }
   ],
   "source": [
    "thisset = set((\"blue\", \"green\", \"red\", 'yellow','purple', 'red')) # note the double round-brackets\n",
    "print(thisset)"
   ]
  },
  {
   "cell_type": "markdown",
   "id": "922708b4",
   "metadata": {},
   "source": [
    "#### `Access Items`\n",
    "You cannot access items in a set by referring to an index or a key.\n",
    "\n",
    "But you can loop through the set items using a for loop, or ask if a specified value is present in a set, by using the in keyword."
   ]
  },
  {
   "cell_type": "code",
   "execution_count": 5,
   "id": "6786fdb0",
   "metadata": {},
   "outputs": [
    {
     "name": "stdout",
     "output_type": "stream",
     "text": [
      "banana\n",
      "cherry\n",
      "apple\n"
     ]
    }
   ],
   "source": [
    "thisset = {\"apple\", \"banana\", \"cherry\"}\n",
    "\n",
    "for x in thisset:\n",
    "  print(x)"
   ]
  },
  {
   "cell_type": "code",
   "execution_count": 9,
   "id": "8e65ff9a",
   "metadata": {},
   "outputs": [
    {
     "name": "stdout",
     "output_type": "stream",
     "text": [
      "apple\n"
     ]
    }
   ],
   "source": [
    "b= 'apple'\n",
    "if b in thisset:\n",
    "    print(b)"
   ]
  },
  {
   "cell_type": "markdown",
   "id": "ab8bae3c",
   "metadata": {},
   "source": [
    "#### `Add Items`\n",
    "Once a set is created, you cannot change its items, but you can add new items.\n",
    "\n",
    "To add one item to a set use the add() method.\n",
    "\n",
    "`Add set`\n",
    "To add items from another set into the current set, use the update() method."
   ]
  },
  {
   "cell_type": "code",
   "execution_count": 10,
   "id": "4b8e5647",
   "metadata": {},
   "outputs": [
    {
     "name": "stdout",
     "output_type": "stream",
     "text": [
      "{'banana', 'cherry', 'orange', 'apple'}\n"
     ]
    }
   ],
   "source": [
    "#Add an item to a set, using the add() method:\n",
    "\n",
    "thisset = {\"apple\", \"banana\", \"cherry\"}\n",
    "\n",
    "thisset.add(\"orange\")\n",
    "\n",
    "print(thisset)"
   ]
  },
  {
   "cell_type": "code",
   "execution_count": 11,
   "id": "d4499988",
   "metadata": {},
   "outputs": [
    {
     "name": "stdout",
     "output_type": "stream",
     "text": [
      "{'banana', 'pineapple', 'cherry', 'mango', 'papaya', 'apple'}\n"
     ]
    }
   ],
   "source": [
    "#Add elements from tropical into thisset:\n",
    "\n",
    "thisset = {\"apple\", \"banana\", \"cherry\"}\n",
    "tropical = {\"pineapple\", \"mango\", \"papaya\"}\n",
    "\n",
    "thisset.update(tropical)\n",
    "\n",
    "print(thisset)"
   ]
  },
  {
   "cell_type": "markdown",
   "id": "ec3a3ea6",
   "metadata": {},
   "source": [
    "## 📝 Module 5 Quiz (Multiple Choice)\n",
    "✅ **Q1:** What is the main difference between a list and a tuple?\n",
    "- A) Lists are immutable, tuples are mutable\n",
    "- B) **Lists are mutable, tuples are immutable** ✅\n",
    "- C) Both are the same\n",
    "- D) Tuples can store only numbers\n",
    "\n",
    "✅ **Q2:** How do you access a value from a dictionary?\n",
    "- A) `dict.get('key')` ✅\n",
    "- B) `dict['key']` ✅\n",
    "- C) `dict.key`\n",
    "- D) `dict.value()`\n",
    "\n",
    "✅ **Q3:** What does a set do with duplicate values?\n",
    "- A) Keeps them\n",
    "- B) **Removes them** ✅\n",
    "- C) Raises an error\n",
    "- D) Converts them into lists\n",
    "\n",
    "✅ **Q4:** What is the correct way to add an element to a list?\n",
    "- A) `list.add(value)`\n",
    "- B) `list.append(value)` ✅\n",
    "- C) `list.push(value)`\n",
    "- D) `list.insert(value)`\n",
    "\n",
    "✅ **Q5:** Which data structure uses key-value pairs?\n",
    "- A) List\n",
    "- B) Tuple\n",
    "- C) **Dictionary** ✅\n",
    "- D) Set\n"
   ]
  },
  {
   "cell_type": "markdown",
   "id": "d0d28452",
   "metadata": {},
   "source": [
    "## 🎯 Module 5 Summary:\n",
    "- ✅ Lists store ordered, mutable data.\n",
    "- ✅ Tuples store ordered, immutable data.\n",
    "- ✅ Dictionaries store key-value pairs.\n",
    "- ✅ Sets store unique values and remove duplicates.\n",
    "\n",
    "### 👉 Next Steps: **Module 6 – File Handling in Python**\n",
    "In the next module, we will learn how to read and write files using Python! 🚀"
   ]
  }
 ],
 "metadata": {
  "kernelspec": {
   "display_name": "Python 3",
   "language": "python",
   "name": "python3"
  },
  "language_info": {
   "codemirror_mode": {
    "name": "ipython",
    "version": 3
   },
   "file_extension": ".py",
   "mimetype": "text/x-python",
   "name": "python",
   "nbconvert_exporter": "python",
   "pygments_lexer": "ipython3",
   "version": "3.9.6"
  }
 },
 "nbformat": 4,
 "nbformat_minor": 5
}
