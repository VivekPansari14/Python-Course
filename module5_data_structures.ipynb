{
 "cells": [
  {
   "cell_type": "markdown",
   "id": "5306f191",
   "metadata": {},
   "source": [
    "# 📈 Module 5: Data Structures in Python\n",
    "## 🎯 Learning Goals:\n",
    "- ✅ Understand lists, tuples, dictionaries, and sets.\n",
    "- ✅ Learn how to manipulate and iterate over data structures.\n",
    "- ✅ Understand when to use different data structures.\n",
    "- ✅ Perform basic operations like adding, removing, and modifying data.\n"
   ]
  },
  {
   "cell_type": "markdown",
   "id": "52fc0df2",
   "metadata": {},
   "source": [
    "## 📢 5.1 Lists: Ordered, Mutable Collections\n",
    "### 📝 Explanation:\n",
    "Lists are ordered collections that can store multiple items. \n",
    "Lists are mutable, meaning their elements can be changed.\n",
    "#### 👉 Syntax:"
   ]
  },
  {
   "cell_type": "code",
   "execution_count": null,
   "id": "69f3cb4c",
   "metadata": {},
   "outputs": [],
   "source": [
    "my_list = [1, 2, 3, 'apple', 'banana']"
   ]
  },
  {
   "cell_type": "markdown",
   "id": "3ae6eabf",
   "metadata": {},
   "source": [
    "#### 👉 Example:"
   ]
  },
  {
   "cell_type": "code",
   "execution_count": null,
   "id": "97d8a95c",
   "metadata": {},
   "outputs": [],
   "source": [
    "fruits = ['apple', 'banana', 'cherry']\n",
    "fruits.append('orange')  # Adds an element\n",
    "print(fruits)  # Output: ['apple', 'banana', 'cherry', 'orange']"
   ]
  },
  {
   "cell_type": "markdown",
   "id": "d094f776",
   "metadata": {},
   "source": [
    "### 🎯 Mini Challenge:\n",
    "Create a list of 5 cities and sort them in alphabetical order."
   ]
  },
  {
   "cell_type": "code",
   "execution_count": null,
   "id": "209aa15e",
   "metadata": {},
   "outputs": [],
   "source": [
    "cities = ['Delhi', 'Mumbai', 'Chennai', 'Kolkata', 'Bangalore']\n",
    "cities.sort()\n",
    "print(cities)"
   ]
  },
  {
   "cell_type": "markdown",
   "id": "d0b60334",
   "metadata": {},
   "source": [
    "## 📢 5.2 Tuples: Ordered, Immutable Collections\n",
    "### 📝 Explanation:\n",
    "Tuples are similar to lists but immutable (cannot be changed after creation).\n",
    "#### 👉 Example:"
   ]
  },
  {
   "cell_type": "code",
   "execution_count": null,
   "id": "5a7c6ee6",
   "metadata": {},
   "outputs": [],
   "source": [
    "coordinates = (10, 20)\n",
    "print(coordinates[0])  # Output: 10"
   ]
  },
  {
   "cell_type": "markdown",
   "id": "62efebec",
   "metadata": {},
   "source": [
    "### 🎯 Mini Challenge:\n",
    "Create a tuple with three numbers and access the second element."
   ]
  },
  {
   "cell_type": "code",
   "execution_count": null,
   "id": "b739dba8",
   "metadata": {},
   "outputs": [],
   "source": [
    "numbers = (5, 10, 15)\n",
    "print(numbers[1])  # Output: 10"
   ]
  },
  {
   "cell_type": "markdown",
   "id": "65b53eae",
   "metadata": {},
   "source": [
    "## 📢 5.3 Dictionaries: Key-Value Pairs\n",
    "### 📝 Explanation:\n",
    "Dictionaries store data as key-value pairs for quick lookups.\n",
    "#### 👉 Example:"
   ]
  },
  {
   "cell_type": "code",
   "execution_count": null,
   "id": "ac0c1b0a",
   "metadata": {},
   "outputs": [],
   "source": [
    "student = {'name': 'John', 'age': 25, 'grade': 'A'}\n",
    "print(student['name'])  # Output: John"
   ]
  },
  {
   "cell_type": "markdown",
   "id": "b2402af4",
   "metadata": {},
   "source": [
    "### 🎯 Mini Challenge:\n",
    "Create a dictionary with three countries and their capitals."
   ]
  },
  {
   "cell_type": "code",
   "execution_count": null,
   "id": "376df109",
   "metadata": {},
   "outputs": [],
   "source": [
    "countries = {\n",
    "    'India': 'New Delhi',\n",
    "    'USA': 'Washington D.C.',\n",
    "    'Japan': 'Tokyo'\n",
    "}\n",
    "print(countries)"
   ]
  },
  {
   "cell_type": "markdown",
   "id": "424787d8",
   "metadata": {},
   "source": [
    "## 📢 5.4 Sets: Unordered, Unique Collections\n",
    "### 📝 Explanation:\n",
    "Sets store unique elements and do not allow duplicates.\n",
    "#### 👉 Example:"
   ]
  },
  {
   "cell_type": "code",
   "execution_count": null,
   "id": "f4a470bb",
   "metadata": {},
   "outputs": [],
   "source": [
    "unique_numbers = {1, 2, 3, 4, 4, 5}\n",
    "print(unique_numbers)  # Output: {1, 2, 3, 4, 5}"
   ]
  },
  {
   "cell_type": "markdown",
   "id": "98bd0037",
   "metadata": {},
   "source": [
    "### 🎯 Mini Challenge:\n",
    "Create a set with five unique colors."
   ]
  },
  {
   "cell_type": "code",
   "execution_count": null,
   "id": "562b1a0b",
   "metadata": {},
   "outputs": [],
   "source": [
    "colors = {'red', 'blue', 'green', 'yellow', 'purple'}\n",
    "print(colors)"
   ]
  },
  {
   "cell_type": "markdown",
   "id": "ec3a3ea6",
   "metadata": {},
   "source": [
    "## 📝 Module 5 Quiz (Multiple Choice)\n",
    "✅ **Q1:** What is the main difference between a list and a tuple?\n",
    "- A) Lists are immutable, tuples are mutable\n",
    "- B) **Lists are mutable, tuples are immutable** ✅\n",
    "- C) Both are the same\n",
    "- D) Tuples can store only numbers\n",
    "\n",
    "✅ **Q2:** How do you access a value from a dictionary?\n",
    "- A) `dict.get('key')` ✅\n",
    "- B) `dict['key']` ✅\n",
    "- C) `dict.key`\n",
    "- D) `dict.value()`\n",
    "\n",
    "✅ **Q3:** What does a set do with duplicate values?\n",
    "- A) Keeps them\n",
    "- B) **Removes them** ✅\n",
    "- C) Raises an error\n",
    "- D) Converts them into lists\n",
    "\n",
    "✅ **Q4:** What is the correct way to add an element to a list?\n",
    "- A) `list.add(value)`\n",
    "- B) `list.append(value)` ✅\n",
    "- C) `list.push(value)`\n",
    "- D) `list.insert(value)`\n",
    "\n",
    "✅ **Q5:** Which data structure uses key-value pairs?\n",
    "- A) List\n",
    "- B) Tuple\n",
    "- C) **Dictionary** ✅\n",
    "- D) Set\n"
   ]
  },
  {
   "cell_type": "markdown",
   "id": "d0d28452",
   "metadata": {},
   "source": [
    "## 🎯 Module 5 Summary:\n",
    "- ✅ Lists store ordered, mutable data.\n",
    "- ✅ Tuples store ordered, immutable data.\n",
    "- ✅ Dictionaries store key-value pairs.\n",
    "- ✅ Sets store unique values and remove duplicates.\n",
    "\n",
    "### 👉 Next Steps: **Module 6 – File Handling in Python**\n",
    "In the next module, we will learn how to read and write files using Python! 🚀"
   ]
  }
 ],
 "metadata": {},
 "nbformat": 4,
 "nbformat_minor": 5
}