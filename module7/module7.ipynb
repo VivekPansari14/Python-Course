{
 "cells": [
  {
   "cell_type": "markdown",
   "id": "91e877c8",
   "metadata": {},
   "source": [
    "# Module 7: Object-Oriented Programming (OOP) in Python"
   ]
  },
  {
   "cell_type": "markdown",
   "id": "3e43a484",
   "metadata": {},
   "source": [
    "## Learning Goals:\n",
    "By the end of this module, students will:\n",
    "- ✅ Understand the fundamental principles of OOP.\n",
    "- ✅ Learn about classes, objects, attributes, and methods.\n",
    "- ✅ Use constructors (`__init__`) and `self` keyword.\n",
    "- ✅ Understand the four pillars of OOP: Encapsulation, Abstraction, Inheritance, and Polymorphism.\n",
    "- ✅ Learn about method overloading and overriding.\n",
    "- ✅ Implement real-world OOP examples in Python.\n"
   ]
  },
  {
   "cell_type": "code",
   "execution_count": null,
   "id": "9ae6f7c4",
   "metadata": {},
   "outputs": [],
   "source": []
  },
  {
   "cell_type": "markdown",
   "id": "adf68b26",
   "metadata": {},
   "source": [
    "## 📢 7.1 What is Object-Oriented Programming (OOP)?\n",
    "Object-Oriented Programming (OOP) is a programming paradigm that focuses on creating objects that interact with one another."
   ]
  },
  {
   "cell_type": "markdown",
   "id": "5979b3a6",
   "metadata": {},
   "source": [
    "### 🔹 Key Concepts in OOP:\n",
    "| Concept   | Description |\n",
    "|-----------|------------|\n",
    "| Class     | A blueprint for creating objects (e.g., Car, Animal, Student). |\n",
    "| Object    | An instance of a class with specific values. |\n",
    "| Attribute | Variables that store the object's properties. |\n",
    "| Method    | Functions inside a class that define object behavior. |"
   ]
  },
  {
   "cell_type": "code",
   "execution_count": null,
   "id": "692291dd",
   "metadata": {},
   "outputs": [],
   "source": [
    "# Example: Creating a Class and Object\n",
    "class Car:\n",
    "    def __init__(self, brand, model):\n",
    "        self.brand = brand  # Attribute\n",
    "        self.model = model  # Attribute\n",
    "\n",
    "    def show_details(self):  # Method\n",
    "        print(f\"Car: {self.brand} {self.model}\")\n",
    "\n",
    "# Creating objects\n",
    "car1 = Car(\"Toyota\", \"Camry\")\n",
    "car2 = Car(\"Honda\", \"Civic\")\n",
    "\n",
    "car1.show_details()\n",
    "car2.show_details()"
   ]
  },
  {
   "cell_type": "markdown",
   "id": "bee01c0d",
   "metadata": {},
   "source": [
    "### 🎯 Mini Challenge:\n",
    "Create a class called `Laptop` with attributes `brand`, `processor`, and `RAM`. Add a method to display details."
   ]
  },
  {
   "cell_type": "markdown",
   "id": "e299902e",
   "metadata": {},
   "source": [
    "## 📢 7.2 Classes & Objects in Python\n",
    "- ✔ A class is like a blueprint for creating objects.\n",
    "- ✔ An object is an actual instance of a class with specific values.\n",
    "- ✔ Objects store data (attributes) and behavior (methods)."
   ]
  },
  {
   "cell_type": "code",
   "execution_count": null,
   "id": "8e4e4aac",
   "metadata": {},
   "outputs": [],
   "source": [
    "# Example: Defining a Class and Creating Objects\n",
    "class Student:\n",
    "    def __init__(self, name, age):\n",
    "        self.name = name\n",
    "        self.age = age\n",
    "\n",
    "    def introduce(self):\n",
    "        print(f\"My name is {self.name} and I am {self.age} years old.\")\n",
    "\n",
    "# Creating an object\n",
    "student1 = Student(\"Alice\", 20)\n",
    "student1.introduce()"
   ]
  },
  {
   "cell_type": "markdown",
   "id": "1046b3b4",
   "metadata": {},
   "source": [
    "### 🎯 Mini Challenge:\n",
    "Create a class called `Book` with attributes `title` and `author`, and add a method to print book details."
   ]
  },
  {
   "cell_type": "markdown",
   "id": "3a2dae76",
   "metadata": {},
   "source": [
    "## 📢 7.3 The Four Pillars of OOP\n",
    "### 🔹 1. Encapsulation: Data Hiding & Protection"
   ]
  },
  {
   "cell_type": "code",
   "execution_count": null,
   "id": "b25ece03",
   "metadata": {},
   "outputs": [],
   "source": [
    "# Example of Encapsulation\n",
    "class BankAccount:\n",
    "    def __init__(self, balance):\n",
    "        self.__balance = balance  # Private attribute\n",
    "\n",
    "    def deposit(self, amount):\n",
    "        self.__balance += amount\n",
    "\n",
    "    def withdraw(self, amount):\n",
    "        if amount <= self.__balance:\n",
    "            self.__balance -= amount\n",
    "        else:\n",
    "            print(\"Insufficient funds\")\n",
    "\n",
    "    def get_balance(self):\n",
    "        return self.__balance\n",
    "\n",
    "# Creating an object\n",
    "account = BankAccount(1000)\n",
    "account.deposit(500)\n",
    "print(account.get_balance())"
   ]
  },
  {
   "cell_type": "markdown",
   "id": "26d101c8",
   "metadata": {},
   "source": [
    "### 🔹 2. Abstraction: Hiding Implementation Details"
   ]
  },
  {
   "cell_type": "code",
   "execution_count": null,
   "id": "085b78d6",
   "metadata": {},
   "outputs": [],
   "source": [
    "# Example of Abstraction using ABC (Abstract Base Class)\n",
    "from abc import ABC, abstractmethod\n",
    "\n",
    "class Animal(ABC):  \n",
    "    @abstractmethod\n",
    "    def make_sound(self):\n",
    "        pass  \n",
    "\n",
    "class Dog(Animal):  \n",
    "    def make_sound(self):\n",
    "        print(\"Woof!\")\n",
    "\n",
    "class Cat(Animal):\n",
    "    def make_sound(self):\n",
    "        print(\"Meow!\")\n",
    "\n",
    "# Creating objects\n",
    "dog = Dog()\n",
    "dog.make_sound()"
   ]
  },
  {
   "cell_type": "markdown",
   "id": "71025263",
   "metadata": {},
   "source": [
    "### 🔹 3. Inheritance: Reusing Code"
   ]
  },
  {
   "cell_type": "code",
   "execution_count": null,
   "id": "9d6587b1",
   "metadata": {},
   "outputs": [],
   "source": [
    "# Example of Inheritance\n",
    "class Animal:\n",
    "    def __init__(self, name):\n",
    "        self.name = name\n",
    "\n",
    "    def speak(self):\n",
    "        print(\"Animal makes a sound.\")\n",
    "\n",
    "class Dog(Animal):  \n",
    "    def speak(self):\n",
    "        print(f\"{self.name} says Woof!\")\n",
    "\n",
    "dog1 = Dog(\"Buddy\")\n",
    "dog1.speak()"
   ]
  },
  {
   "cell_type": "markdown",
   "id": "02dbe4b1",
   "metadata": {},
   "source": [
    "### 🔹 4. Polymorphism: Same Interface, Different Behavior"
   ]
  },
  {
   "cell_type": "code",
   "execution_count": null,
   "id": "fbc36b3a",
   "metadata": {},
   "outputs": [],
   "source": [
    "# Example of Polymorphism\n",
    "class Bird:\n",
    "    def fly(self):\n",
    "        print(\"Some birds can fly.\")\n",
    "\n",
    "class Sparrow(Bird):\n",
    "    def fly(self):\n",
    "        print(\"Sparrow flies high!\")\n",
    "\n",
    "class Penguin(Bird):\n",
    "    def fly(self):\n",
    "        print(\"Penguins cannot fly.\")\n",
    "\n",
    "# Polymorphism in action\n",
    "for bird in [Sparrow(), Penguin()]:\n",
    "    bird.fly()"
   ]
  },
  {
   "cell_type": "markdown",
   "id": "1049f349",
   "metadata": {},
   "source": [
    "## 📢 7.4 Method Overloading & Overriding"
   ]
  },
  {
   "cell_type": "code",
   "execution_count": null,
   "id": "66515bcd",
   "metadata": {},
   "outputs": [],
   "source": [
    "# Example of Overriding\n",
    "class Parent:\n",
    "    def show(self):\n",
    "        print(\"Parent method\")\n",
    "\n",
    "class Child(Parent):\n",
    "    def show(self):\n",
    "        print(\"Child method\")\n",
    "\n",
    "obj = Child()\n",
    "obj.show()"
   ]
  },
  {
   "cell_type": "markdown",
   "id": "cb0522f1",
   "metadata": {},
   "source": [
    "## 🎯 Module 7 Summary\n",
    "- ✅ OOP organizes code into classes and objects.\n",
    "- ✅ Encapsulation hides data for security.\n",
    "- ✅ Abstraction simplifies complex logic.\n",
    "- ✅ Inheritance promotes code reusability.\n",
    "- ✅ Polymorphism allows flexibility in method usage.\n",
    "\n",
    "🚀 **Next Steps: Module 8 – Error Handling & Debugging in Python**"
   ]
  }
 ],
 "metadata": {
  "language_info": {
   "name": "python"
  }
 },
 "nbformat": 4,
 "nbformat_minor": 5
}
