{
 "cells": [
  {
   "cell_type": "markdown",
   "id": "366598d9",
   "metadata": {},
   "source": [
    "# 📈 Module 3: Control Flow – Conditional Statements & Loops"
   ]
  },
  {
   "cell_type": "markdown",
   "id": "72b4f080",
   "metadata": {},
   "source": [
    "## 🎯 Learning Goals:\n",
    "By the end of this module, You will:\n",
    "✅ Understand and use if-else statements for decision-making.\n",
    "✅ Learn about nested conditions for complex logic.\n",
    "✅ Master loops (`for`, `while`) for iteration.\n",
    "✅ Work with list comprehensions and the `range()` function."
   ]
  },
  {
   "cell_type": "markdown",
   "id": "06c9471c",
   "metadata": {},
   "source": [
    "## 📢 3.1 Conditional Statements (if-else)"
   ]
  },
  {
   "cell_type": "markdown",
   "id": "1ce0ec09",
   "metadata": {},
   "source": [
    "### 📝 Explanation:\n",
    "Conditional statements allow your program to make decisions based on conditions."
   ]
  },
  {
   "cell_type": "code",
   "execution_count": 14,
   "id": "eef915c0",
   "metadata": {},
   "outputs": [
    {
     "name": "stdout",
     "output_type": "stream",
     "text": [
      "You are a teenager.\n"
     ]
    }
   ],
   "source": [
    "# Example: Using if-else statements\n",
    "age = int(input(\"Enter your age: \"))\n",
    "if age >= 18:\n",
    "    print(\"You are an adult.\")\n",
    "elif age >= 13:\n",
    "    print(\"You are a teenager.\")\n",
    "else:\n",
    "    print(\"You are a child.\")"
   ]
  },
  {
   "cell_type": "markdown",
   "id": "73eae8b3",
   "metadata": {},
   "source": [
    "### 🎯 Mini Challenge:\n",
    "Write a program that checks if a number is positive, negative, or zero."
   ]
  },
  {
   "cell_type": "code",
   "execution_count": 17,
   "id": "7836f1af",
   "metadata": {},
   "outputs": [
    {
     "name": "stdout",
     "output_type": "stream",
     "text": [
      "negative\n"
     ]
    }
   ],
   "source": [
    "num = int(input(\"enter a number:\"))\n",
    "if num>0:\n",
    "    print(\"positive\")\n",
    "elif num< 0:\n",
    "    print(\"negative\")\n",
    "else:\n",
    "    print(\"Zero\")"
   ]
  },
  {
   "cell_type": "markdown",
   "id": "0d4078ea",
   "metadata": {},
   "source": [
    "## 📢 3.2 Nested Conditions"
   ]
  },
  {
   "cell_type": "markdown",
   "id": "5a02f2f5",
   "metadata": {},
   "source": [
    "### 📝 Explanation:\n",
    "You can place if-else statements inside other if-else statements for more complex logic."
   ]
  },
  {
   "cell_type": "code",
   "execution_count": 20,
   "id": "21ae73bc",
   "metadata": {},
   "outputs": [
    {
     "name": "stdout",
     "output_type": "stream",
     "text": [
      "Number is not positive\n"
     ]
    }
   ],
   "source": [
    "# Example: Nested Conditions\n",
    "num = int(input(\"Enter a number: \"))\n",
    "if num > 0:\n",
    "    if num % 2 == 0:\n",
    "        print(\"Positive Even Number\")\n",
    "    else:\n",
    "        print(\"Positive Odd Number\")\n",
    "else:\n",
    "    print(\"Number is not positive\")"
   ]
  },
  {
   "cell_type": "markdown",
   "id": "9570d2b4",
   "metadata": {},
   "source": [
    "### 🎯 Mini Challenge:\n",
    "Modify the program to check negative even and odd numbers as well."
   ]
  },
  {
   "cell_type": "code",
   "execution_count": 22,
   "id": "bf23c799",
   "metadata": {},
   "outputs": [
    {
     "name": "stdout",
     "output_type": "stream",
     "text": [
      "negative Odd Number\n"
     ]
    }
   ],
   "source": [
    "num = int(input(\"Enter a number: \"))\n",
    "if num > 0:\n",
    "    if num % 2 == 0:\n",
    "        print(\"Positive Even Number\")\n",
    "    else:\n",
    "        print(\"Positive Odd Number\")\n",
    "else:\n",
    "    if num % 2 == 0:\n",
    "        print(\"Negative Even Number\")\n",
    "    else:\n",
    "        print(\"negative Odd Number\")"
   ]
  },
  {
   "cell_type": "markdown",
   "id": "c06f34a3",
   "metadata": {},
   "source": [
    "## 📢 3.3 Loops (for, while)\n",
    "\n",
    "For loop\n",
    "A for loop is used for iterating over a sequence (that is either a list, a tuple, a dictionary, a set, or a string).\n",
    "\n",
    "The while Loop\n",
    "With the while loop we can execute a set of statements as long as a condition is true.\n",
    "\n"
   ]
  },
  {
   "cell_type": "markdown",
   "id": "1d8129dc",
   "metadata": {},
   "source": [
    "### 📝 Explanation:\n",
    "Loops allow repeated execution of code without duplication."
   ]
  },
  {
   "cell_type": "code",
   "execution_count": 26,
   "id": "28bb5cd6",
   "metadata": {},
   "outputs": [
    {
     "name": "stdout",
     "output_type": "stream",
     "text": [
      "1\n",
      "2\n",
      "3\n",
      "4\n",
      "5\n"
     ]
    }
   ],
   "source": [
    "print(1)\n",
    "print(2)\n",
    "print(3)\n",
    "print(4)\n",
    "print(5)"
   ]
  },
  {
   "cell_type": "code",
   "execution_count": 28,
   "id": "c5700939",
   "metadata": {},
   "outputs": [
    {
     "name": "stdout",
     "output_type": "stream",
     "text": [
      "Iteration: 0\n",
      "Iteration: 1\n",
      "Iteration: 2\n",
      "Iteration: 3\n",
      "Iteration: 4\n",
      "Iteration: 5\n"
     ]
    }
   ],
   "source": [
    "# Example: for Loop\n",
    "for i in range(6):\n",
    "    print(\"Iteration:\", i)"
   ]
  },
  {
   "cell_type": "markdown",
   "id": "fd33a8e3",
   "metadata": {},
   "source": [
    "### The break Statement\n",
    "\n",
    "With the **break statement** we can stop the loop before it has looped through all the items:"
   ]
  },
  {
   "cell_type": "code",
   "execution_count": 29,
   "id": "a29d15b5",
   "metadata": {},
   "outputs": [
    {
     "name": "stdout",
     "output_type": "stream",
     "text": [
      "Iteration: 0\n",
      "Iteration: 1\n",
      "Iteration: 2\n",
      "Iteration: 3\n"
     ]
    }
   ],
   "source": [
    "# Example: for Loop\n",
    "for i in range(5):\n",
    "    print(\"Iteration:\", i)\n",
    "    if i==3:\n",
    "        break"
   ]
  },
  {
   "cell_type": "markdown",
   "id": "8b5a3807",
   "metadata": {},
   "source": [
    "### The continue Statement\n",
    "\n",
    "With the **continue statement** we can stop the current iteration of the loop, and continue with the next:"
   ]
  },
  {
   "cell_type": "code",
   "execution_count": 30,
   "id": "9948ed63",
   "metadata": {},
   "outputs": [
    {
     "name": "stdout",
     "output_type": "stream",
     "text": [
      "Iteration: 0\n",
      "Iteration: 1\n",
      "Iteration: 2\n",
      "Iteration: 4\n"
     ]
    }
   ],
   "source": [
    "for i in range(5):\n",
    "    if i==3:\n",
    "        continue\n",
    "    print(\"Iteration:\", i)"
   ]
  },
  {
   "cell_type": "code",
   "execution_count": 32,
   "id": "220edec7",
   "metadata": {},
   "outputs": [
    {
     "name": "stdout",
     "output_type": "stream",
     "text": [
      "Current value: 1\n",
      "Current value: 2\n",
      "Current value: 3\n",
      "Current value: 4\n"
     ]
    }
   ],
   "source": [
    "# Example: while Loop\n",
    "x = 1\n",
    "while x != 5:\n",
    "    print(\"Current value:\", x)\n",
    "    x += 1"
   ]
  },
  {
   "cell_type": "code",
   "execution_count": 33,
   "id": "9adf1594",
   "metadata": {},
   "outputs": [
    {
     "name": "stdout",
     "output_type": "stream",
     "text": [
      "0\n",
      "2\n"
     ]
    }
   ],
   "source": [
    "#Break statement in while loop\n",
    "i = 0\n",
    "while i < 9:\n",
    "  print(i)\n",
    "  if i == 2:\n",
    "    break\n",
    "  i += 2"
   ]
  },
  {
   "cell_type": "code",
   "execution_count": 34,
   "id": "f0baf9b3",
   "metadata": {},
   "outputs": [
    {
     "name": "stdout",
     "output_type": "stream",
     "text": [
      "1\n",
      "2\n",
      "4\n",
      "5\n",
      "6\n"
     ]
    }
   ],
   "source": [
    "#continue statement in while loop\n",
    "i = 0\n",
    "while i < 6:\n",
    "  i += 1\n",
    "  if i == 3:\n",
    "    continue\n",
    "  print(i)"
   ]
  },
  {
   "cell_type": "markdown",
   "id": "45cb4ddc",
   "metadata": {},
   "source": [
    "### Nested Loops\n",
    "A **nested loop** is a loop inside a loop.\n",
    "\n",
    "The \"inner loop\" will be executed one time for each iteration of the \"outer loop\":"
   ]
  },
  {
   "cell_type": "code",
   "execution_count": 35,
   "id": "028d00ef",
   "metadata": {},
   "outputs": [
    {
     "name": "stdout",
     "output_type": "stream",
     "text": [
      "0 0\n",
      "0 1\n",
      "0 2\n",
      "0 3\n",
      "1 0\n",
      "1 1\n",
      "1 2\n",
      "1 3\n",
      "2 0\n",
      "2 1\n",
      "2 2\n",
      "2 3\n"
     ]
    }
   ],
   "source": [
    "for x in range(3): #x = 0 1 2\n",
    "  for y in range(4): #y 0 1 2 3\n",
    "    print(x, y)"
   ]
  },
  {
   "cell_type": "markdown",
   "id": "9dd3813f",
   "metadata": {},
   "source": [
    "### The pass Statement\n",
    "for loops cannot be empty, but if you for some reason have a for loop with no content, put in the pass statement to avoid getting an error."
   ]
  },
  {
   "cell_type": "code",
   "execution_count": 38,
   "id": "9ca82fa9",
   "metadata": {},
   "outputs": [],
   "source": [
    "for x in range(3):\n",
    "    pass"
   ]
  },
  {
   "cell_type": "markdown",
   "id": "1cfe31b0",
   "metadata": {},
   "source": [
    "### 🎯 Mini Challenge:\n",
    "Write a for loop that prints numbers from 10 to 1 in reverse."
   ]
  },
  {
   "cell_type": "code",
   "execution_count": 40,
   "id": "dfae9eff",
   "metadata": {},
   "outputs": [
    {
     "name": "stdout",
     "output_type": "stream",
     "text": [
      "10\n",
      "9\n",
      "8\n",
      "7\n",
      "6\n",
      "5\n",
      "4\n",
      "3\n",
      "2\n",
      "1\n"
     ]
    }
   ],
   "source": [
    "for num in range(10, 0 , -1):\n",
    "    print(num)"
   ]
  },
  {
   "cell_type": "code",
   "execution_count": 43,
   "id": "c7121d9f",
   "metadata": {},
   "outputs": [
    {
     "name": "stdout",
     "output_type": "stream",
     "text": [
      "3\n",
      "5\n",
      "7\n"
     ]
    }
   ],
   "source": [
    "for i in range(3, 8, 2):\n",
    "    print(i)"
   ]
  },
  {
   "cell_type": "markdown",
   "id": "5741c09f",
   "metadata": {},
   "source": [
    "## 📢 3.4 Iterating Over Strings & Lists"
   ]
  },
  {
   "cell_type": "code",
   "execution_count": 44,
   "id": "c7797e55",
   "metadata": {},
   "outputs": [
    {
     "name": "stdout",
     "output_type": "stream",
     "text": [
      "P\n",
      "y\n",
      "t\n",
      "h\n",
      "o\n",
      "n\n"
     ]
    }
   ],
   "source": [
    "# Example: Iterating Over a String\n",
    "word = \"Python\"\n",
    "for letter in word:\n",
    "    print(letter)"
   ]
  },
  {
   "cell_type": "code",
   "execution_count": 45,
   "id": "2d0a2f2a",
   "metadata": {},
   "outputs": [
    {
     "name": "stdout",
     "output_type": "stream",
     "text": [
      "apple\n",
      "banana\n",
      "cherry\n"
     ]
    }
   ],
   "source": [
    "# Example: Iterating Over a List\n",
    "fruits = [\"apple\", \"banana\", \"cherry\"]\n",
    "for fruit in fruits:\n",
    "    print(fruit)"
   ]
  },
  {
   "cell_type": "markdown",
   "id": "7de194b0",
   "metadata": {},
   "source": [
    "### 🎯 Mini Challenge:\n",
    "Write a program to count how many vowels are in a given string."
   ]
  },
  {
   "cell_type": "code",
   "execution_count": 46,
   "id": "b611711c",
   "metadata": {},
   "outputs": [
    {
     "name": "stdout",
     "output_type": "stream",
     "text": [
      "5\n"
     ]
    }
   ],
   "source": [
    "vowel_set= ('a', 'e', 'i', 'o', 'u')\n",
    "text = \"My name is Vivek\"\n",
    "count =0\n",
    "for i in text:\n",
    "    if i in vowel_set:\n",
    "        count +=1\n",
    "print(count)"
   ]
  },
  {
   "cell_type": "markdown",
   "id": "03e3b9b1",
   "metadata": {},
   "source": [
    "## 📢 3.5 List Comprehension & range()\n",
    "\n",
    "**List comprehension** offers a shorter syntax when you want to create a new list based on the values of an existing list.\n",
    "\n",
    "The **range() function** returns a sequence of numbers, starting from 0 by default, and increments by 1 (by default), and stops before a specified number."
   ]
  },
  {
   "cell_type": "code",
   "execution_count": 47,
   "id": "3de489dd",
   "metadata": {},
   "outputs": [
    {
     "name": "stdout",
     "output_type": "stream",
     "text": [
      "[1, 4, 9, 16, 25]\n"
     ]
    }
   ],
   "source": [
    "#without list Comprehension\n",
    "squares=[]\n",
    "for x in range(1,6):\n",
    "    squares.append(x**2)\n",
    "print(squares)"
   ]
  },
  {
   "cell_type": "code",
   "execution_count": 49,
   "id": "56da1cd8",
   "metadata": {},
   "outputs": [
    {
     "name": "stdout",
     "output_type": "stream",
     "text": [
      "[4]\n"
     ]
    }
   ],
   "source": [
    "# Example: List Comprehension\n",
    "squares = [x**2 for x in range(1, 6) if x == 2]\n",
    "print(squares)"
   ]
  },
  {
   "cell_type": "code",
   "execution_count": 50,
   "id": "26df058f",
   "metadata": {},
   "outputs": [
    {
     "name": "stdout",
     "output_type": "stream",
     "text": [
      "2\n",
      "4\n",
      "6\n",
      "8\n",
      "10\n"
     ]
    }
   ],
   "source": [
    "# Example: Using range()\n",
    "for num in range(2, 11, 2):\n",
    "    print(num)"
   ]
  },
  {
   "cell_type": "markdown",
   "id": "09c66472",
   "metadata": {},
   "source": [
    "### 🎯 Mini Challenge:\n",
    "Create a list using list comprehension that contains only odd numbers from 1 to 20."
   ]
  },
  {
   "cell_type": "code",
   "execution_count": 51,
   "id": "131535c2",
   "metadata": {},
   "outputs": [
    {
     "name": "stdout",
     "output_type": "stream",
     "text": [
      "[1, 3, 5, 7, 9, 11, 13, 15, 17, 19]\n"
     ]
    }
   ],
   "source": [
    "odd = [x for x in range(1, 21) if x %2 !=0]\n",
    "print(odd)"
   ]
  },
  {
   "cell_type": "markdown",
   "id": "6938d95a",
   "metadata": {},
   "source": [
    "## 📝 Module 3 Quiz (Multiple Choice)\n",
    "✅ **Q1:** What does an if statement do?\n",
    "- A) Loops through a list\n",
    "- B) Runs code only when a condition is met ✅\n",
    "- C) Prints output to the console\n",
    "- D) Defines a function"
   ]
  },
  {
   "cell_type": "markdown",
   "id": "cec3738c",
   "metadata": {},
   "source": [
    "✅ **Q2:** What will this code print?\n",
    "```python\n",
    "if 5 > 3:\n",
    "    print('Five is greater than three!')\n",
    "```\n",
    "- A) Nothing\n",
    "- B) Five is greater than three! ✅\n",
    "- C) Error\n",
    "- D) False"
   ]
  },
  {
   "cell_type": "markdown",
   "id": "ba160e38",
   "metadata": {},
   "source": [
    "✅ **Q3:** How many times will this loop run?\n",
    "```python\n",
    "for i in range(4):\n",
    "    print(i)\n",
    "```\n",
    "- A) 3 times\n",
    "- B) 4 times ✅\n",
    "- C) 5 times\n",
    "- D) Infinite times"
   ]
  },
  {
   "cell_type": "markdown",
   "id": "1ecb2e75",
   "metadata": {},
   "source": [
    "✅ **Q4:** What is the correct syntax for a while loop?\n",
    "- A) `while x > 0 do:`\n",
    "- B) `while (x > 0) {}`\n",
    "- C) `while x > 0:` ✅\n",
    "- D) `loop while x > 0:`"
   ]
  },
  {
   "cell_type": "markdown",
   "id": "88e1d9bd",
   "metadata": {},
   "source": [
    "✅ **Q5:** Which of these is a correct list comprehension?\n",
    "- A) `[x * 2 for x in range(5)]` ✅\n",
    "- B) `list(x * 2 for x in range(5))`\n",
    "- C) `{x * 2 for x in range(5)}`\n",
    "- D) `for x in range(5) { x * 2 }`"
   ]
  },
  {
   "cell_type": "markdown",
   "id": "eb77cc86",
   "metadata": {},
   "source": [
    "## 🎯 Module 3 Summary\n",
    "✅ `if-else` statements control decision-making in programs.\n",
    "✅ Loops (`for`, `while`) help repeat tasks efficiently.\n",
    "✅ We can iterate over strings, lists, and use list comprehensions for concise code.\n",
    "✅ The `range()` function generates sequences of numbers for looping."
   ]
  },
  {
   "cell_type": "markdown",
   "id": "66b76653",
   "metadata": {},
   "source": [
    "👉 **Next Steps: Module 4 – Functions & Error Handling**\n",
    "In the next module, we will learn about defining functions, function arguments, return values, and handling errors in Python! 🚀"
   ]
  }
 ],
 "metadata": {
  "kernelspec": {
   "display_name": "Python 3",
   "language": "python",
   "name": "python3"
  },
  "language_info": {
   "codemirror_mode": {
    "name": "ipython",
    "version": 3
   },
   "file_extension": ".py",
   "mimetype": "text/x-python",
   "name": "python",
   "nbconvert_exporter": "python",
   "pygments_lexer": "ipython3",
   "version": "3.9.6"
  }
 },
 "nbformat": 4,
 "nbformat_minor": 5
}
