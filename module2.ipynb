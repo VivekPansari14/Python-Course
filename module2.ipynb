{
 "cells": [
  {
   "cell_type": "markdown",
   "metadata": {},
   "source": [
    "# 📈 Module 2: Python Basics – Variables, Data Types & User Input\n",
    "\n",
    "## 🎯 Learning Goals:\n",
    "- Understand what variables are and how to use them.\n",
    "- Learn about different data types in Python.\n",
    "- Take user input and display it using Python."
   ]
  },
  {
   "cell_type": "markdown",
   "metadata": {},
   "source": [
    "## 🖥 Installing Jupyter Notebook in VS Code\n",
    "\n",
    "Before we start coding, let's set up Jupyter Notebook in VS Code.\n",
    "Jupyter Notebook allows us to write and execute Python code in an interactive environment.\n",
    "\n",
    "### 👉 Steps to Install:\n",
    "1️⃣ Install Python from [python.org](https://www.python.org/downloads/).\n",
    "2️⃣ Install VS Code from [code.visualstudio.com](https://code.visualstudio.com/).\n",
    "3️⃣ Open VS Code and install Jupyter Notebook by running:\n",
    "   ```bash\n",
    "   pip install notebook\n",
    "   ```\n",
    "4️⃣ Install Jupyter Extension in VS Code:\n",
    "   - Go to Extensions (Ctrl+Shift+X or Cmd+Shift+X on Mac).\n",
    "   - Search for 'Jupyter' and install it.\n",
    "5️⃣ Create a Jupyter Notebook:\n",
    "   - Open VS Code.\n",
    "   - Click `File` > `New File`.\n",
    "   - Save it as `module2.ipynb`.\n",
    "   - Now, you can run Python code interactively! 🎯"
   ]
  },
  {
   "cell_type": "markdown",
   "metadata": {},
   "source": [
    "## 📢 2.1 What are Variables?\n",
    "\n",
    "A variable is like a storage box where we keep values.\n",
    "Python variables don’t need explicit type declaration—Python figures it out automatically."
   ]
  },
  {
   "cell_type": "code",
   "execution_count": null,
   "metadata": {},
   "outputs": [],
   "source": [
    "# Example: Defining Variables\n",
    "name = \"Alice\"\n",
    "age = 25\n",
    "height = 5.7\n",
    "\n",
    "print(\"Name:\", name)\n",
    "print(\"Age:\", age)\n",
    "print(\"Height:\", height)"
   ]
  },
  {
   "cell_type": "markdown",
   "metadata": {},
   "source": [
    "## 📢 2.2 Data Types in Python\n",
    "\n",
    "Python has different types of data. Here are some of the main ones:\n",
    "\n",
    "| Data Type | Example       | Description |\n",
    "|-----------|--------------|-------------|\n",
    "| int       | 10, -5, 0    | Whole numbers |\n",
    "| float     | 3.14, -2.5   | Numbers with decimals |\n",
    "| str       | 'hello'      | Text values |\n",
    "| bool      | True, False  | Logical values |\n",
    "| list      | [1, 2, 3]    | Ordered collection |\n",
    "| tuple     | (4, 5, 6)    | Immutable ordered collection |\n",
    "| dict      | {\"key\": value} | Key-value pairs |"
   ]
  },
  {
   "cell_type": "code",
   "execution_count": null,
   "metadata": {},
   "outputs": [],
   "source": [
    "# Example: Data Types in Python\n",
    "x = 10        # Integer\n",
    "y = 3.14      # Float\n",
    "name = \"Bob\"  # String\n",
    "is_active = True  # Boolean\n",
    "\n",
    "print(type(x))  # <class 'int'>\n",
    "print(type(y))  # <class 'float'>\n",
    "print(type(name))  # <class 'str'>\n",
    "print(type(is_active))  # <class 'bool'>"
   ]
  },
  {
   "cell_type": "markdown",
   "metadata": {},
   "source": [
    "## 🎯 Mini Challenge: Define Your Own Variables\n",
    "\n",
    "Create variables for:\n",
    "1️⃣ Your favorite movie 🎬\n",
    "2️⃣ Your birth year 📅\n",
    "3️⃣ Whether you love Python (True/False) 🐍"
   ]
  },
  {
   "cell_type": "markdown",
   "metadata": {},
   "source": [
    "## 📢 2.3 Taking User Input\n",
    "\n",
    "In many programs, we need to take input from the user.\n",
    "We use `input()` to get user input.\n",
    "Input is always treated as a string unless converted."
   ]
  },
  {
   "cell_type": "code",
   "execution_count": null,
   "metadata": {},
   "outputs": [],
   "source": [
    "# Example: Taking User Input\n",
    "name = input(\"Enter your name: \")\n",
    "age = input(\"Enter your age: \")\n",
    "print(\"Hello,\", name, \"! You are\", age, \"years old.\")"
   ]
  },
  {
   "cell_type": "markdown",
   "metadata": {},
   "source": [
    "## 🎯 Mini Challenge: Take Two Numbers and Print Their Sum\n",
    "\n",
    "Write a Python program that takes two numbers as input and prints their sum."
   ]
  },
  {
   "cell_type": "code",
   "execution_count": null,
   "metadata": {},
   "outputs": [],
   "source": [
    "num1 = int(input(\"Enter first number: \"))\n",
    "num2 = int(input(\"Enter second number: \"))\n",
    "print(\"Sum:\", num1 + num2)"
   ]
  },
  {
   "cell_type": "markdown",
   "metadata": {},
   "source": [
    "## 📝 Module 2 Quiz\n",
    "\n",
    "✅ **Q1: What is a variable in Python?**\n",
    "- A) A keyword in Python\n",
    "- B) A way to store data ✅\n",
    "- C) A type of function\n",
    "- D) A data type\n",
    "\n",
    "✅ **Q2: Which of these is NOT a valid variable name?**\n",
    "- A) my_var\n",
    "- B) 2name ❌ (Cannot start with a number)\n",
    "- C) age_25\n",
    "- D) Python_rules\n",
    "\n",
    "✅ **Q3: What function is used to take user input in Python?**\n",
    "- A) print()\n",
    "- B) input() ✅\n",
    "- C) scan()\n",
    "- D) read()"
   ]
  },
  {
   "cell_type": "markdown",
   "metadata": {},
   "source": [
    "## 🎯 Module 2 Summary\n",
    "- Variables store different types of data.\n",
    "- Python has built-in data types like int, float, str, and bool.\n",
    "- User input is collected using `input()` and needs conversion if used as a number.\n"
   ]
  },
  {
   "cell_type": "markdown",
   "metadata": {},
   "source": [
    "## 👉 Next Steps: Module 3 – Operators & Control Flow\n",
    "\n",
    "In the next module, we will learn about **operators, conditional statements (`if-else`), and loops (`for`, `while`)** in Python! 🚀"
   ]
  },
  {
   "cell_type": "markdown",
   "metadata": {},
   "source": []
  }
 ],
 "metadata": {
  "kernelspec": {
   "display_name": "Python 3",
   "language": "python",
   "name": "python3"
  }
 },
 "nbformat": 4,
 "nbformat_minor": 4
}
