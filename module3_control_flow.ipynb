{
 "cells": [
  {
   "cell_type": "markdown",
   "id": "366598d9",
   "metadata": {},
   "source": [
    "# 📈 Module 3: Control Flow – Conditional Statements & Loops"
   ]
  },
  {
   "cell_type": "markdown",
   "id": "72b4f080",
   "metadata": {},
   "source": [
    "## 🎯 Learning Goals:\n",
    "By the end of this module, students will:\n",
    "✅ Understand and use if-else statements for decision-making.\n",
    "✅ Learn about nested conditions for complex logic.\n",
    "✅ Master loops (`for`, `while`) for iteration.\n",
    "✅ Work with list comprehensions and the `range()` function."
   ]
  },
  {
   "cell_type": "markdown",
   "id": "06c9471c",
   "metadata": {},
   "source": [
    "## 📢 3.1 Conditional Statements (if-else)"
   ]
  },
  {
   "cell_type": "markdown",
   "id": "1ce0ec09",
   "metadata": {},
   "source": [
    "### 📝 Explanation:\n",
    "Conditional statements allow your program to make decisions based on conditions."
   ]
  },
  {
   "cell_type": "code",
   "execution_count": null,
   "id": "eef915c0",
   "metadata": {},
   "outputs": [],
   "source": [
    "# Example: Using if-else statements\n",
    "age = int(input(\"Enter your age: \"))\n",
    "if age >= 18:\n",
    "    print(\"You are an adult.\")\n",
    "elif age >= 13:\n",
    "    print(\"You are a teenager.\")\n",
    "else:\n",
    "    print(\"You are a child.\")"
   ]
  },
  {
   "cell_type": "markdown",
   "id": "73eae8b3",
   "metadata": {},
   "source": [
    "### 🎯 Mini Challenge:\n",
    "Write a program that checks if a number is positive, negative, or zero."
   ]
  },
  {
   "cell_type": "markdown",
   "id": "0d4078ea",
   "metadata": {},
   "source": [
    "## 📢 3.2 Nested Conditions"
   ]
  },
  {
   "cell_type": "markdown",
   "id": "5a02f2f5",
   "metadata": {},
   "source": [
    "### 📝 Explanation:\n",
    "You can place if-else statements inside other if-else statements for more complex logic."
   ]
  },
  {
   "cell_type": "code",
   "execution_count": null,
   "id": "21ae73bc",
   "metadata": {},
   "outputs": [],
   "source": [
    "# Example: Nested Conditions\n",
    "num = int(input(\"Enter a number: \"))\n",
    "if num > 0:\n",
    "    if num % 2 == 0:\n",
    "        print(\"Positive Even Number\")\n",
    "    else:\n",
    "        print(\"Positive Odd Number\")\n",
    "else:\n",
    "    print(\"Number is not positive\")"
   ]
  },
  {
   "cell_type": "markdown",
   "id": "9570d2b4",
   "metadata": {},
   "source": [
    "### 🎯 Mini Challenge:\n",
    "Modify the program to check negative even and odd numbers as well."
   ]
  },
  {
   "cell_type": "markdown",
   "id": "c06f34a3",
   "metadata": {},
   "source": [
    "## 📢 3.3 Loops (for, while)"
   ]
  },
  {
   "cell_type": "markdown",
   "id": "1d8129dc",
   "metadata": {},
   "source": [
    "### 📝 Explanation:\n",
    "Loops allow repeated execution of code without duplication."
   ]
  },
  {
   "cell_type": "code",
   "execution_count": null,
   "id": "c5700939",
   "metadata": {},
   "outputs": [],
   "source": [
    "# Example: for Loop\n",
    "for i in range(5):\n",
    "    print(\"Iteration:\", i)"
   ]
  },
  {
   "cell_type": "code",
   "execution_count": null,
   "id": "220edec7",
   "metadata": {},
   "outputs": [],
   "source": [
    "# Example: while Loop\n",
    "x = 1\n",
    "while x <= 5:\n",
    "    print(\"Current value:\", x)\n",
    "    x += 1"
   ]
  },
  {
   "cell_type": "markdown",
   "id": "1cfe31b0",
   "metadata": {},
   "source": [
    "### 🎯 Mini Challenge:\n",
    "Write a for loop that prints numbers from 10 to 1 in reverse."
   ]
  },
  {
   "cell_type": "markdown",
   "id": "5741c09f",
   "metadata": {},
   "source": [
    "## 📢 3.4 Iterating Over Strings & Lists"
   ]
  },
  {
   "cell_type": "code",
   "execution_count": null,
   "id": "c7797e55",
   "metadata": {},
   "outputs": [],
   "source": [
    "# Example: Iterating Over a String\n",
    "word = \"Python\"\n",
    "for letter in word:\n",
    "    print(letter)"
   ]
  },
  {
   "cell_type": "code",
   "execution_count": null,
   "id": "2d0a2f2a",
   "metadata": {},
   "outputs": [],
   "source": [
    "# Example: Iterating Over a List\n",
    "fruits = [\"apple\", \"banana\", \"cherry\"]\n",
    "for fruit in fruits:\n",
    "    print(fruit)"
   ]
  },
  {
   "cell_type": "markdown",
   "id": "7de194b0",
   "metadata": {},
   "source": [
    "### 🎯 Mini Challenge:\n",
    "Write a program to count how many vowels are in a given string."
   ]
  },
  {
   "cell_type": "markdown",
   "id": "03e3b9b1",
   "metadata": {},
   "source": [
    "## 📢 3.5 List Comprehension & range()"
   ]
  },
  {
   "cell_type": "code",
   "execution_count": null,
   "id": "56da1cd8",
   "metadata": {},
   "outputs": [],
   "source": [
    "# Example: List Comprehension\n",
    "squares = [x**2 for x in range(1, 6)]\n",
    "print(squares)"
   ]
  },
  {
   "cell_type": "code",
   "execution_count": null,
   "id": "26df058f",
   "metadata": {},
   "outputs": [],
   "source": [
    "# Example: Using range()\n",
    "for num in range(2, 11, 2):\n",
    "    print(num)"
   ]
  },
  {
   "cell_type": "markdown",
   "id": "09c66472",
   "metadata": {},
   "source": [
    "### 🎯 Mini Challenge:\n",
    "Create a list using list comprehension that contains only odd numbers from 1 to 20."
   ]
  },
  {
   "cell_type": "markdown",
   "id": "6938d95a",
   "metadata": {},
   "source": [
    "## 📝 Module 3 Quiz (Multiple Choice)\n",
    "✅ **Q1:** What does an if statement do?\n",
    "- A) Loops through a list\n",
    "- B) Runs code only when a condition is met ✅\n",
    "- C) Prints output to the console\n",
    "- D) Defines a function"
   ]
  },
  {
   "cell_type": "markdown",
   "id": "cec3738c",
   "metadata": {},
   "source": [
    "✅ **Q2:** What will this code print?\n",
    "```python\n",
    "if 5 > 3:\n",
    "    print('Five is greater than three!')\n",
    "```\n",
    "- A) Nothing\n",
    "- B) Five is greater than three! ✅\n",
    "- C) Error\n",
    "- D) False"
   ]
  },
  {
   "cell_type": "markdown",
   "id": "ba160e38",
   "metadata": {},
   "source": [
    "✅ **Q3:** How many times will this loop run?\n",
    "```python\n",
    "for i in range(4):\n",
    "    print(i)\n",
    "```\n",
    "- A) 3 times\n",
    "- B) 4 times ✅\n",
    "- C) 5 times\n",
    "- D) Infinite times"
   ]
  },
  {
   "cell_type": "markdown",
   "id": "1ecb2e75",
   "metadata": {},
   "source": [
    "✅ **Q4:** What is the correct syntax for a while loop?\n",
    "- A) `while x > 0 do:`\n",
    "- B) `while (x > 0) {}`\n",
    "- C) `while x > 0:` ✅\n",
    "- D) `loop while x > 0:`"
   ]
  },
  {
   "cell_type": "markdown",
   "id": "88e1d9bd",
   "metadata": {},
   "source": [
    "✅ **Q5:** Which of these is a correct list comprehension?\n",
    "- A) `[x * 2 for x in range(5)]` ✅\n",
    "- B) `list(x * 2 for x in range(5))`\n",
    "- C) `{x * 2 for x in range(5)}`\n",
    "- D) `for x in range(5) { x * 2 }`"
   ]
  },
  {
   "cell_type": "markdown",
   "id": "eb77cc86",
   "metadata": {},
   "source": [
    "## 🎯 Module 3 Summary\n",
    "✅ `if-else` statements control decision-making in programs.\n",
    "✅ Loops (`for`, `while`) help repeat tasks efficiently.\n",
    "✅ We can iterate over strings, lists, and use list comprehensions for concise code.\n",
    "✅ The `range()` function generates sequences of numbers for looping."
   ]
  },
  {
   "cell_type": "markdown",
   "id": "66b76653",
   "metadata": {},
   "source": [
    "👉 **Next Steps: Module 4 – Functions & Error Handling**\n",
    "In the next module, we will learn about defining functions, function arguments, return values, and handling errors in Python! 🚀"
   ]
  }
 ],
 "metadata": {},
 "nbformat": 4,
 "nbformat_minor": 5
}